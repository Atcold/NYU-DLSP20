{
 "cells": [
  {
   "cell_type": "markdown",
   "metadata": {
    "colab_type": "text",
    "id": "vBT32VqHsZSa"
   },
   "source": [
    "# MNIST\n",
    "\n",
    "Ignore this code, this is just setup of various models and data loaders for MNIST. In this notebook we shall look at the vanishing gradient problem and see how multiple connections between weights in atrchitectures like the LSTM and Resnet work better than vanilla implmentations like a simple RNN or a very deep net without residual connections.\n",
    "\n",
    "Please ignore this setup code and head on downwards to where we define our LSTM and RNN network."
   ]
  },
  {
   "cell_type": "code",
   "execution_count": 1,
   "metadata": {
    "colab": {},
    "colab_type": "code",
    "id": "RmsXsOoStY37"
   },
   "outputs": [],
   "source": [
    "from utils.vanishing_utils import *"
   ]
  },
  {
   "cell_type": "markdown",
   "metadata": {
    "colab_type": "text",
    "id": "0Fsc2R8Eh-q3"
   },
   "source": [
    "# RNN\n",
    "\n",
    "Here, we define our vanilla RNN network."
   ]
  },
  {
   "cell_type": "code",
   "execution_count": 2,
   "metadata": {
    "colab": {},
    "colab_type": "code",
    "id": "mSd-B8WBteu_"
   },
   "outputs": [],
   "source": [
    "# Recurrent neural network (many-to-one)\n",
    "class RNN(nn.Module):\n",
    "    def __init__(self, input_size, hidden_size, num_layers, num_classes):\n",
    "        super(RNN, self).__init__()\n",
    "        self.hidden_size = hidden_size\n",
    "        self.num_layers = num_layers\n",
    "        self.rnn = nn.RNN(input_size, hidden_size, num_layers, batch_first=True)\n",
    "        self.fc = nn.Linear(hidden_size, num_classes)\n",
    "        self.vis = True\n",
    "    \n",
    "    def forward(self, x):\n",
    "\n",
    "        # Forward propagate RNN\n",
    "        out, _ = self.rnn(x)  # out: tensor of shape (batch_size, seq_length, hidden_size)\n",
    "        if self.vis:\n",
    "          x.register_hook(lambda grad: vis_weights(grad))\n",
    "\n",
    "        # Decode the hidden state of the last time step\n",
    "        out = self.fc(out[:, -1, :])\n",
    "        return out"
   ]
  },
  {
   "cell_type": "markdown",
   "metadata": {
    "colab_type": "text",
    "id": "v7AS5c9iiM6i"
   },
   "source": [
    "# LSTM\n",
    "\n",
    "We, we define our LSTM network."
   ]
  },
  {
   "cell_type": "code",
   "execution_count": 3,
   "metadata": {
    "colab": {},
    "colab_type": "code",
    "id": "DLQH9JjriOMB"
   },
   "outputs": [],
   "source": [
    "# LSTM\n",
    "class Lstm(nn.Module):\n",
    "    def __init__(self, input_size, hidden_size, num_layers, num_classes):\n",
    "        super(Lstm, self).__init__()\n",
    "        self.hidden_size = hidden_size\n",
    "        self.num_layers = num_layers\n",
    "        self.lstm = nn.LSTM(input_size, hidden_size, num_layers, batch_first=True)\n",
    "        self.fc = nn.Linear(hidden_size, num_classes)\n",
    "        self.vis = True\n",
    "    \n",
    "    def forward(self, x):\n",
    "\n",
    "        # Forward propagate LSTM\n",
    "        out, _ = self.lstm(x)  # out: tensor of shape (batch_size, seq_length, hidden_size)\n",
    "        if self.vis:\n",
    "          x.register_hook(lambda grad: vis_weights(grad))\n",
    "        # Decode the hidden state of the last time step\n",
    "        out = self.fc(out[:, -1, :])\n",
    "        return out\n"
   ]
  },
  {
   "cell_type": "markdown",
   "metadata": {
    "colab_type": "text",
    "id": "EdWvt8PpiO6c"
   },
   "source": [
    "# Vanishing Gradient Visualization\n",
    "\n",
    "Here, we will see the difference between the LSTM and RNN visually. We will plot the overall magnitude of the gradients (the loss with respect to the input sequence) across the whole input sequence. We shall see that the values of the gradients become really low as we go back to the start of the input sequence. \n",
    "\n",
    "The sequential multiplications of small gradients lead to smaller and smaller gradients as we back propagate through time. In the below graphs, the X axis corresponds to the index number of the input sequence and the Y axis corresponds to the mean value of the gradients at that position of the input."
   ]
  },
  {
   "cell_type": "code",
   "execution_count": 4,
   "metadata": {
    "colab": {
     "base_uri": "https://localhost:8080/",
     "height": 265
    },
    "colab_type": "code",
    "id": "5APfLy99i6zX",
    "outputId": "05281b82-4bec-48b2-bee7-c9c0dbd4208b"
   },
   "outputs": [
    {
     "data": {
      "image/png": "[encoded data removed]",
      "text/plain": [
       "<Figure size 432x288 with 1 Axes>"
      ]
     },
     "metadata": {
      "needs_background": "light"
     },
     "output_type": "display_data"
    }
   ],
   "source": [
    "rnn_model = RNN(input_size, hidden_size, num_layers, num_classes).to(device)\n",
    "vis(rnn_model)"
   ]
  },
  {
   "cell_type": "code",
   "execution_count": 5,
   "metadata": {
    "colab": {
     "base_uri": "https://localhost:8080/",
     "height": 265
    },
    "colab_type": "code",
    "id": "Np3EeeqGi85H",
    "outputId": "cb81c00b-51a3-4213-a658-4a679b95869a"
   },
   "outputs": [
    {
     "data": {
      "image/png": "[encoded data removed]",
      "text/plain": [
       "<Figure size 432x288 with 1 Axes>"
      ]
     },
     "metadata": {
      "needs_background": "light"
     },
     "output_type": "display_data"
    }
   ],
   "source": [
    "lstm_model = Lstm(input_size, hidden_size, num_layers, num_classes).to(device)\n",
    "vis(lstm_model)"
   ]
  },
  {
   "cell_type": "markdown",
   "metadata": {
    "colab_type": "text",
    "id": "N0MFBuPDjPjl"
   },
   "source": [
    "As, we can see the values for the LSTM are much bigger than the RNN.\n",
    "\n",
    "The gradients for the first input in the sequence for LSTM are in the $10^{15}$ range and the gradients w.r.t first input of RNN are in the $10^{18}$ range.\n",
    "\n",
    "This is a difference of about a factor of 1000. The gradients propogated behind are 1000 times smaller in the case of RNN over LSTM. This becomes a big problem when we want to sustain information over a long time span. "
   ]
  },
  {
   "cell_type": "markdown",
   "metadata": {
    "colab_type": "text",
    "id": "Z01UK4cKjQ9l"
   },
   "source": [
    "## Difference in Performance in LSTM and RNN\n",
    "\n",
    "Now, we shall use our intuitions of the vanishing gradient problem and verify that performance is indeed affected by comparing accuracy results on MNIST between the LSTM model and RNN model."
   ]
  },
  {
   "cell_type": "code",
   "execution_count": 6,
   "metadata": {
    "colab": {
     "base_uri": "https://localhost:8080/",
     "height": 240
    },
    "colab_type": "code",
    "id": "5HdYa6x7ti3O",
    "outputId": "51c6e3ba-279b-456b-f80f-320ff6edf181"
   },
   "outputs": [
    {
     "name": "stdout",
     "output_type": "stream",
     "text": [
      "Epoch [1/2], Step [100/600], Loss: 2.2960\n",
      "Epoch [1/2], Step [200/600], Loss: 2.3882\n",
      "Epoch [1/2], Step [300/600], Loss: 2.3407\n",
      "Epoch [1/2], Step [400/600], Loss: 2.3711\n",
      "Epoch [1/2], Step [500/600], Loss: 2.4788\n",
      "Epoch [1/2], Step [600/600], Loss: 2.3931\n",
      "Epoch [2/2], Step [100/600], Loss: 2.3475\n",
      "Epoch [2/2], Step [200/600], Loss: 2.3122\n",
      "Epoch [2/2], Step [300/600], Loss: 2.3327\n",
      "Epoch [2/2], Step [400/600], Loss: 2.3950\n",
      "Epoch [2/2], Step [500/600], Loss: 2.3677\n",
      "Epoch [2/2], Step [600/600], Loss: 2.3519\n",
      "Test Accuracy of the model on the 10000 test images: 10.28 %\n"
     ]
    }
   ],
   "source": [
    "rnn_model = RNN(input_size, hidden_size, num_layers, num_classes).to(device)\n",
    "train_and_eval(rnn_model)"
   ]
  },
  {
   "cell_type": "markdown",
   "metadata": {
    "colab_type": "text",
    "id": "nGugV6FYlyqE"
   },
   "source": [
    "As we can see the, RNN is not able to learn to classify MNIST digits. Let's see if the LSTM network can do better with the same input sequence size..."
   ]
  },
  {
   "cell_type": "code",
   "execution_count": 7,
   "metadata": {
    "colab": {
     "base_uri": "https://localhost:8080/",
     "height": 240
    },
    "colab_type": "code",
    "id": "fUNerlYjtsyD",
    "outputId": "d6f4f928-c408-4c05-e470-c64230573724"
   },
   "outputs": [
    {
     "name": "stdout",
     "output_type": "stream",
     "text": [
      "Epoch [1/2], Step [100/600], Loss: 1.4245\n",
      "Epoch [1/2], Step [200/600], Loss: 0.8804\n",
      "Epoch [1/2], Step [300/600], Loss: 0.4939\n",
      "Epoch [1/2], Step [400/600], Loss: 0.4153\n",
      "Epoch [1/2], Step [500/600], Loss: 0.2987\n",
      "Epoch [1/2], Step [600/600], Loss: 0.3564\n",
      "Epoch [2/2], Step [100/600], Loss: 0.1449\n",
      "Epoch [2/2], Step [200/600], Loss: 0.1908\n",
      "Epoch [2/2], Step [300/600], Loss: 0.2162\n",
      "Epoch [2/2], Step [400/600], Loss: 0.2465\n",
      "Epoch [2/2], Step [500/600], Loss: 0.1229\n",
      "Epoch [2/2], Step [600/600], Loss: 0.1081\n",
      "Test Accuracy of the model on the 10000 test images: 95.19 %\n"
     ]
    }
   ],
   "source": [
    "lstm_model = Lstm(input_size, hidden_size, num_layers, num_classes).to(device)\n",
    "train_and_eval(lstm_model)"
   ]
  },
  {
   "cell_type": "markdown",
   "metadata": {
    "colab_type": "text",
    "id": "lTnKS2mnl9sD"
   },
   "source": [
    "The LSTM is able to learn something, all due to greater propagation of gradients backwards ! "
   ]
  },
  {
   "cell_type": "code",
   "execution_count": null,
   "metadata": {},
   "outputs": [],
   "source": []
  }
 ],
 "metadata": {
  "accelerator": "GPU",
  "colab": {
   "collapsed_sections": [],
   "name": "Vanishing Gradient.ipynb",
   "provenance": []
  },
  "kernelspec": {
   "display_name": "Python 3",
   "language": "python",
   "name": "python3"
  },
  "language_info": {
   "codemirror_mode": {
    "name": "ipython",
    "version": 3
   },
   "file_extension": ".py",
   "mimetype": "text/x-python",
   "name": "python",
   "nbconvert_exporter": "python",
   "pygments_lexer": "ipython3",
   "version": "3.8.2"
  }
 },
 "nbformat": 4,
 "nbformat_minor": 1
}
