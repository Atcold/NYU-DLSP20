{
 "cells": [
  {
   "cell_type": "code",
   "execution_count": null,
   "metadata": {},
   "outputs": [],
   "source": [
    "# Load libraries\n",
    "import random\n",
    "import torch\n",
    "from plot_lib import set_default, show_mat\n",
    "from matplotlib.pyplot import plot, subplot, axhline, axvline, legend, suptitle, title\n",
    "from numpy import pi as π\n",
    "from numpy import sqrt, cos, arange, arccos"
   ]
  },
  {
   "cell_type": "code",
   "execution_count": null,
   "metadata": {},
   "outputs": [],
   "source": [
    "# Set style (needs to be in a new cell)\n",
    "set_default(figsize=(10, 4), dpi=200)"
   ]
  },
  {
   "cell_type": "code",
   "execution_count": null,
   "metadata": {},
   "outputs": [],
   "source": [
    "# Generate a collection of 5 3D vectors on a sphere\n",
    "A = torch.nn.functional.normalize(torch.randn(5, 3), p=2, dim=1)"
   ]
  },
  {
   "cell_type": "code",
   "execution_count": null,
   "metadata": {},
   "outputs": [],
   "source": [
    "# Checking the content\n",
    "A"
   ]
  },
  {
   "cell_type": "code",
   "execution_count": null,
   "metadata": {},
   "outputs": [],
   "source": [
    "# And the norm\n",
    "A.norm(p=2, dim=1)"
   ]
  },
  {
   "cell_type": "code",
   "execution_count": null,
   "metadata": {},
   "outputs": [],
   "source": [
    "# Change the value of the dimensionality d\n",
    "d = 8  # 1, 2, [3], 5, 8\n",
    "A = torch.nn.functional.normalize(torch.randn(10, d), 2, 1)"
   ]
  },
  {
   "cell_type": "code",
   "execution_count": null,
   "metadata": {},
   "outputs": [],
   "source": [
    "# Run this multiple times per given d\n",
    "a = A[[random.randrange(A.size(0))],:].t()  # perhaps comment, if playing with vis\n",
    "p = A @ a\n",
    "# p = torch.abs(A @ a)\n",
    "\n",
    "# Plot\n",
    "show_mat(A, a, p, threshold=-1)  # pick threshold ∈ [-1, +1), default -1"
   ]
  },
  {
   "cell_type": "code",
   "execution_count": null,
   "metadata": {},
   "outputs": [],
   "source": [
    "# Compute the histogram of points uniformly distributed on a unit sphere in d dimensions\n",
    "bins = 101\n",
    "N = 10_000\n",
    "d_range = (2, 3, 4, 6, 10, 16); z = 1\n",
    "\n",
    "ax1 = subplot(121)\n",
    "ax2 = subplot(122, projection='polar')\n",
    "for d in d_range:\n",
    "    A = torch.nn.functional.normalize(torch.randn(N, d), 2, 1)\n",
    "    B = torch.nn.functional.normalize(torch.randn(N, d), 2, 1)\n",
    "    h = torch.histc((A @ B.t()).view(-1), bins, -1, 1) / N\n",
    "    ax1.plot(torch.linspace(-1, 1, bins).numpy(), h.numpy())\n",
    "    ax2.plot(π * torch.linspace(-1, +1, 2 * bins).numpy(), torch.cat((h, h)).numpy())\n",
    "ax1.legend([f'{d}D' for d in d_range], ncol=3)\n",
    "ax1.set_ylim(0, 350)\n",
    "ax2.legend([f'{d}D' for d in d_range], ncol=3)\n",
    "ax2.set_rlim(0, 350)\n",
    "suptitle('Normalised scalar product distribution')"
   ]
  },
  {
   "cell_type": "markdown",
   "metadata": {},
   "source": [
    "These curves are simply the probability density function of a $\\Gamma$ distribution, with $\\alpha = \\beta = (D - 1) / 2$.\n",
    "See why this is the case [here](https://stats.stackexchange.com/a/85977/31844).\n",
    "More about curse of dimensionality and almost orthogonality [here](https://www.cs.princeton.edu/courses/archive/fall15/cos521/lecnotes/lec12.pdf)."
   ]
  },
  {
   "cell_type": "markdown",
   "metadata": {},
   "source": [
    "$$\\Vert a - b \\Vert = \\sqrt{\\Vert a \\Vert^2 + \\Vert b \\Vert^2 - 2 a^\\top b}$$"
   ]
  },
  {
   "cell_type": "code",
   "execution_count": null,
   "metadata": {
    "scrolled": false
   },
   "outputs": [],
   "source": [
    "# Compute the histogram of points uniformly distributed on a unit sphere in d dimensions\n",
    "r = 3\n",
    "bins = 200 + 1\n",
    "N = 10_000\n",
    "d_range = (2, 3, 4, 6, 10, 16)\n",
    "ax1 = subplot(111)\n",
    "for d in d_range:\n",
    "    A = torch.randn(N, d) / sqrt(d)\n",
    "    B = torch.randn(N, d) / sqrt(d)\n",
    "    h = torch.histc(torch.cdist(A[None,:,:], B[None,:,:]).view(-1), bins, 0, r) / N\n",
    "    ax1.plot(torch.linspace(0, r, bins).numpy(), h.numpy())\n",
    "ax1.legend([f'{d}D' for d in d_range], ncol=3)\n",
    "ax1.set_ylim(ymin=0);\n",
    "title('Distribution of distances in D dimensions')"
   ]
  },
  {
   "cell_type": "code",
   "execution_count": null,
   "metadata": {
    "scrolled": false
   },
   "outputs": [],
   "source": [
    "# Compute the histogram of points uniformly distributed on a unit sphere in d dimensions\n",
    "r = 1\n",
    "bins = 200 + 1\n",
    "N = 10_000\n",
    "d_range = (2, 3, 4, 6, 10, 16)\n",
    "ax = subplot(111)\n",
    "for d in d_range:\n",
    "    A = torch.randn(N, d) / sqrt(d)\n",
    "    B = torch.randn(N, d) / sqrt(d)\n",
    "    dist = torch.cdist(A[None,:,:], B[None,:,:])\n",
    "    h = torch.histc(dist.min(-1)[0].view(-1), bins, 0, r) / N\n",
    "    ax.plot(torch.linspace(0, r, bins).numpy(), h.numpy())\n",
    "l = [f'{d}D' for d in d_range]\n",
    "ax.legend(l, ncol=3)\n",
    "ax.set_ylim(ymin=0, ymax=.10)\n",
    "suptitle('Distribution of min distance')"
   ]
  },
  {
   "cell_type": "code",
   "execution_count": null,
   "metadata": {},
   "outputs": [],
   "source": [
    "# Where are those two blue spikes coming from?\n",
    "ϕ = arange(0, 1, 1/100) * π\n",
    "f = cos(ϕ)"
   ]
  },
  {
   "cell_type": "code",
   "execution_count": null,
   "metadata": {
    "scrolled": false
   },
   "outputs": [],
   "source": [
    "plot(ϕ, f)\n",
    "axhline()\n",
    "axvline()\n",
    "legend(['cosine'])"
   ]
  },
  {
   "cell_type": "code",
   "execution_count": null,
   "metadata": {},
   "outputs": [],
   "source": [
    "c = arange(-1+1/100, 1, 1/100)\n",
    "g = arccos(c)"
   ]
  },
  {
   "cell_type": "code",
   "execution_count": null,
   "metadata": {
    "scrolled": false
   },
   "outputs": [],
   "source": [
    "plot(c, g)\n",
    "plot(c[:-1], (g[1:]-g[:-1])*100)\n",
    "legend(['arccos', 'D[arccos]'])\n",
    "axhline()\n",
    "axvline()"
   ]
  }
 ],
 "metadata": {
  "kernelspec": {
   "display_name": "Python [conda env:pDL] *",
   "language": "python",
   "name": "conda-env-pDL-py"
  },
  "language_info": {
   "codemirror_mode": {
    "name": "ipython",
    "version": 3
   },
   "file_extension": ".py",
   "mimetype": "text/x-python",
   "name": "python",
   "nbconvert_exporter": "python",
   "pygments_lexer": "ipython3",
   "version": "3.8.1"
  }
 },
 "nbformat": 4,
 "nbformat_minor": 2
}
