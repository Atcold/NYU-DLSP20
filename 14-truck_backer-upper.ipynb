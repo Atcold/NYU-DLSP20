{
 "cells": [
  {
   "cell_type": "code",
   "execution_count": 1,
   "metadata": {},
   "outputs": [],
   "source": [
    "from matplotlib.pylab import *\n",
    "from matplotlib.patches import Rectangle\n",
    "from matplotlib.collections import PatchCollection\n",
    "from matplotlib.lines import Line2D\n",
    "π = pi"
   ]
  },
  {
   "cell_type": "code",
   "execution_count": 2,
   "metadata": {},
   "outputs": [],
   "source": [
    "style.use(['dark_background', 'bmh'])\n",
    "%matplotlib notebook"
   ]
  },
  {
   "cell_type": "markdown",
   "metadata": {},
   "source": [
    "Car-trailer diagram (inverted image `car-trainer-k.png` available as well):\n",
    "![car-trailer](car-trailer-w.png)\n",
    "\n",
    "Car-trailer equation:\n",
    "\\begin{align}\n",
    "\\dot x &= s \\cos \\theta_0 \\\\\n",
    "\\dot y &= s \\sin \\theta_0 \\\\\n",
    "\\dot \\theta_0 &= \\frac{s}{L} \\tan \\phi \\\\\n",
    "\\dot \\theta_1 &= \\frac{s}{d_1} \\sin(\\theta_1 - \\theta_0)\n",
    "\\end{align}\n",
    "where $s$: signed speed, $\\phi$: negative steering angle,"
   ]
  },
  {
   "cell_type": "code",
   "execution_count": 3,
   "metadata": {},
   "outputs": [],
   "source": [
    "class Truck:\n",
    "    def __init__(self, display=False):\n",
    "\n",
    "        self.W = 1  # car and trailer width, for drawing only\n",
    "        self.L = 1 * self.W  # car length\n",
    "        self.d = 4 * self.L  # d_1\n",
    "        self.s = -0.1  # speed\n",
    "        self.display = display\n",
    "        \n",
    "        self.box = [0, 40, -10, 10]\n",
    "        if self.display:\n",
    "            self.f = figure(figsize=(10, 5), num='The truck backer-upper', facecolor='none')\n",
    "            self.ax = self.f.add_axes([0.01, 0.01, 0.98, 0.98], facecolor='black')\n",
    "            self.patches = list()\n",
    "            \n",
    "            self.ax.axis('equal')\n",
    "            b = self.box\n",
    "            self.ax.axis([b[0] - 1, b[1], b[2], b[3]])\n",
    "            self.ax.set_xticks([], []); self.ax.set_yticks([], [])\n",
    "            self.ax.axhline(); self.ax.axvline()\n",
    "\n",
    "        self.reset()\n",
    "    \n",
    "    def reset(self, ϕ=0):\n",
    "        self.ϕ = ϕ  # car initial steering angle\n",
    "        \n",
    "        # self.θ0 = deg2rad(30)  # car initial direction\n",
    "        # self.θ1 = deg2rad(-30)  # trailer initial direction\n",
    "        # self.x, self.y = 20, -5  # initial car coordinates\n",
    "        \n",
    "        self.θ0 = random() * 2 * π  # 0 <= ϑ₀ < 2π\n",
    "        self.θ1 = (random() - 0.5) * π / 2 + self.θ0  # -π/4 <= ϑ₁ - ϑ₀ < π/4\n",
    "        self.x = (random() * .75 + 0.25) * self.box[1]\n",
    "        self.y = (random() - 0.5) * (self.box[3] - self.box[2])\n",
    "        \n",
    "        # If poorly initialise, then re-initialise\n",
    "        if not self.valid():\n",
    "            self.reset(ϕ)\n",
    "        \n",
    "        # Draw, if display is True\n",
    "        if self.display: self.draw()\n",
    "    \n",
    "    def step(self, ϕ=0, dt=1):\n",
    "        \n",
    "        # Check for illegal conditions\n",
    "        if self.is_jackknifed():\n",
    "            print('The truck is jackknifed!')\n",
    "            return\n",
    "        \n",
    "        if self.is_offscreen():\n",
    "            print('The car or trailer is off screen')\n",
    "            return\n",
    "        \n",
    "        self.ϕ = ϕ\n",
    "        x, y, W, L, d, s, θ0, θ1, ϕ = self._get_atributes()\n",
    "        \n",
    "        # Perform state update\n",
    "        self.x += s * cos(θ0) * dt\n",
    "        self.y += s * sin(θ0) * dt\n",
    "        self.θ0 += s / L * tan(ϕ) * dt\n",
    "        self.θ1 += s / d * sin(θ0 - θ1) * dt\n",
    "        \n",
    "        return (self.x, self.y, self.θ0, *self._traler_xy(), self.θ1)\n",
    "    \n",
    "    def state(self):\n",
    "        return (self.x, self.y, self.θ0, *self._traler_xy(), self.θ1)\n",
    "    \n",
    "    def set_state(self, x, y, θ0, θ1, ϕ):\n",
    "        self.x = x\n",
    "        self.y = y\n",
    "        self.θ0 = θ0\n",
    "        self.θ1 = θ1\n",
    "        self.ϕ = ϕ\n",
    "    \n",
    "    def _get_atributes(self):\n",
    "        return (\n",
    "            self.x, self.y, self.W, self.L, self.d, self.s,\n",
    "            self.θ0, self.θ1, self.ϕ\n",
    "        )\n",
    "    \n",
    "    def _traler_xy(self):\n",
    "        x, y, W, L, d, s, θ0, θ1, ϕ = self._get_atributes()\n",
    "        return x - d * cos(θ1), y - d * sin(θ1)\n",
    "        \n",
    "    def is_jackknifed(self):\n",
    "        x, y, W, L, d, s, θ0, θ1, ϕ = self._get_atributes()\n",
    "        return abs(θ0 - θ1) * 180 / π > 90\n",
    "    \n",
    "    def is_offscreen(self):\n",
    "        x, y, W, L, d, s, θ0, θ1, ϕ = self._get_atributes()\n",
    "        \n",
    "        x1, y1 = x + 1.5 * L * cos(θ0), y + 1.5 * L * sin(θ0)\n",
    "        x2, y2 = self._traler_xy()\n",
    "        \n",
    "        b = self.box\n",
    "        return not (\n",
    "            b[0] <= x1 <= b[1] and b[2] <= y1 <= b[3] and\n",
    "            b[0] <= x2 <= b[1] and b[2] <= y2 <= b[3]\n",
    "        )\n",
    "        \n",
    "    def valid(self):\n",
    "        return not self.is_jackknifed() and not self.is_offscreen()\n",
    "        \n",
    "    def draw(self):\n",
    "        if not self.display: return\n",
    "        if self.patches: self.clear()\n",
    "        self._draw_car()\n",
    "        self._draw_trailer()\n",
    "        self.f.canvas.draw()\n",
    "            \n",
    "    def clear(self):\n",
    "        for p in self.patches:\n",
    "            p.remove()\n",
    "        self.patches = list()\n",
    "        \n",
    "    def _draw_car(self):\n",
    "        x, y, W, L, d, s, θ0, θ1, ϕ = self._get_atributes()\n",
    "        ax = self.ax\n",
    "        \n",
    "        x1, y1 = x + L / 2 * cos(θ0), y + L / 2 * sin(θ0)\n",
    "        bar = Line2D((x, x1), (y, y1), lw=5, color='C2', alpha=0.8)\n",
    "        ax.add_line(bar)\n",
    "\n",
    "        car = Rectangle(\n",
    "            (x1, y1 - W / 2), L, W, 0, color='C2', alpha=0.8, transform=\n",
    "            matplotlib.transforms.Affine2D().rotate_deg_around(x1, y1, θ0 * 180 / π) +\n",
    "            ax.transData\n",
    "        )\n",
    "        ax.add_patch(car)\n",
    "\n",
    "        x2, y2 = x1 + L / 2 ** 0.5 * cos(θ0 + π / 4), y1 + L / 2 ** 0.5 * sin(θ0 + π / 4)\n",
    "        left_wheel = Line2D(\n",
    "            (x2 - L / 4 * cos(θ0 + ϕ), x2 + L / 4 * cos(θ0 + ϕ)),\n",
    "            (y2 - L / 4 * sin(θ0 + ϕ), y2 + L / 4 * sin(θ0 + ϕ)),\n",
    "            lw=3, color='C5', alpha=1)\n",
    "        ax.add_line(left_wheel)\n",
    "\n",
    "        x3, y3 = x1 + L / 2 ** 0.5 * cos(π / 4 - θ0), y1 - L / 2 ** 0.5 * sin(π / 4 - θ0)\n",
    "        right_wheel = Line2D(\n",
    "            (x3 - L / 4 * cos(θ0 + ϕ), x3 + L / 4 * cos(θ0 + ϕ)),\n",
    "            (y3 - L / 4 * sin(θ0 + ϕ), y3 + L / 4 * sin(θ0 + ϕ)),\n",
    "            lw=3, color='C5', alpha=1)\n",
    "        ax.add_line(right_wheel)\n",
    "        \n",
    "        self.patches += [car, bar, left_wheel, right_wheel]\n",
    "        \n",
    "    def _draw_trailer(self):\n",
    "        x, y, W, L, d, s, θ0, θ1, ϕ = self._get_atributes()\n",
    "        ax = self.ax\n",
    "            \n",
    "        x, y = x - d * cos(θ1), y - d * sin(θ1) - W / 2\n",
    "        trailer = Rectangle(\n",
    "            (x, y), d, W, 0, color='C0', alpha=0.8, transform=\n",
    "            matplotlib.transforms.Affine2D().rotate_deg_around(x, y + W/2, θ1 * 180 / π) +\n",
    "            ax.transData\n",
    "        )\n",
    "        ax.add_patch(trailer)\n",
    "        \n",
    "        self.patches += [trailer]"
   ]
  },
  {
   "cell_type": "code",
   "execution_count": 4,
   "metadata": {},
   "outputs": [
    {
     "data": {
      "application/javascript": [
       "/* Put everything inside the global mpl namespace */\n",
       "window.mpl = {};\n",
       "\n",
       "\n",
       "mpl.get_websocket_type = function() {\n",
       "    if (typeof(WebSocket) !== 'undefined') {\n",
       "        return WebSocket;\n",
       "    } else if (typeof(MozWebSocket) !== 'undefined') {\n",
       "        return MozWebSocket;\n",
       "    } else {\n",
       "        alert('Your browser does not have WebSocket support.' +\n",
       "              'Please try Chrome, Safari or Firefox ≥ 6. ' +\n",
       "              'Firefox 4 and 5 are also supported but you ' +\n",
       "              'have to enable WebSockets in about:config.');\n",
       "    };\n",
       "}\n",
       "\n",
       "mpl.figure = function(figure_id, websocket, ondownload, parent_element) {\n",
       "    this.id = figure_id;\n",
       "\n",
       "    this.ws = websocket;\n",
       "\n",
       "    this.supports_binary = (this.ws.binaryType != undefined);\n",
       "\n",
       "    if (!this.supports_binary) {\n",
       "        var warnings = document.getElementById(\"mpl-warnings\");\n",
       "        if (warnings) {\n",
       "            warnings.style.display = 'block';\n",
       "            warnings.textContent = (\n",
       "                \"This browser does not support binary websocket messages. \" +\n",
       "                    \"Performance may be slow.\");\n",
       "        }\n",
       "    }\n",
       "\n",
       "    this.imageObj = new Image();\n",
       "\n",
       "    this.context = undefined;\n",
       "    this.message = undefined;\n",
       "    this.canvas = undefined;\n",
       "    this.rubberband_canvas = undefined;\n",
       "    this.rubberband_context = undefined;\n",
       "    this.format_dropdown = undefined;\n",
       "\n",
       "    this.image_mode = 'full';\n",
       "\n",
       "    this.root = $('<div/>');\n",
       "    this._root_extra_style(this.root)\n",
       "    this.root.attr('style', 'display: inline-block');\n",
       "\n",
       "    $(parent_element).append(this.root);\n",
       "\n",
       "    this._init_header(this);\n",
       "    this._init_canvas(this);\n",
       "    this._init_toolbar(this);\n",
       "\n",
       "    var fig = this;\n",
       "\n",
       "    this.waiting = false;\n",
       "\n",
       "    this.ws.onopen =  function () {\n",
       "            fig.send_message(\"supports_binary\", {value: fig.supports_binary});\n",
       "            fig.send_message(\"send_image_mode\", {});\n",
       "            if (mpl.ratio != 1) {\n",
       "                fig.send_message(\"set_dpi_ratio\", {'dpi_ratio': mpl.ratio});\n",
       "            }\n",
       "            fig.send_message(\"refresh\", {});\n",
       "        }\n",
       "\n",
       "    this.imageObj.onload = function() {\n",
       "            if (fig.image_mode == 'full') {\n",
       "                // Full images could contain transparency (where diff images\n",
       "                // almost always do), so we need to clear the canvas so that\n",
       "                // there is no ghosting.\n",
       "                fig.context.clearRect(0, 0, fig.canvas.width, fig.canvas.height);\n",
       "            }\n",
       "            fig.context.drawImage(fig.imageObj, 0, 0);\n",
       "        };\n",
       "\n",
       "    this.imageObj.onunload = function() {\n",
       "        fig.ws.close();\n",
       "    }\n",
       "\n",
       "    this.ws.onmessage = this._make_on_message_function(this);\n",
       "\n",
       "    this.ondownload = ondownload;\n",
       "}\n",
       "\n",
       "mpl.figure.prototype._init_header = function() {\n",
       "    var titlebar = $(\n",
       "        '<div class=\"ui-dialog-titlebar ui-widget-header ui-corner-all ' +\n",
       "        'ui-helper-clearfix\"/>');\n",
       "    var titletext = $(\n",
       "        '<div class=\"ui-dialog-title\" style=\"width: 100%; ' +\n",
       "        'text-align: center; padding: 3px;\"/>');\n",
       "    titlebar.append(titletext)\n",
       "    this.root.append(titlebar);\n",
       "    this.header = titletext[0];\n",
       "}\n",
       "\n",
       "\n",
       "\n",
       "mpl.figure.prototype._canvas_extra_style = function(canvas_div) {\n",
       "\n",
       "}\n",
       "\n",
       "\n",
       "mpl.figure.prototype._root_extra_style = function(canvas_div) {\n",
       "\n",
       "}\n",
       "\n",
       "mpl.figure.prototype._init_canvas = function() {\n",
       "    var fig = this;\n",
       "\n",
       "    var canvas_div = $('<div/>');\n",
       "\n",
       "    canvas_div.attr('style', 'position: relative; clear: both; outline: 0');\n",
       "\n",
       "    function canvas_keyboard_event(event) {\n",
       "        return fig.key_event(event, event['data']);\n",
       "    }\n",
       "\n",
       "    canvas_div.keydown('key_press', canvas_keyboard_event);\n",
       "    canvas_div.keyup('key_release', canvas_keyboard_event);\n",
       "    this.canvas_div = canvas_div\n",
       "    this._canvas_extra_style(canvas_div)\n",
       "    this.root.append(canvas_div);\n",
       "\n",
       "    var canvas = $('<canvas/>');\n",
       "    canvas.addClass('mpl-canvas');\n",
       "    canvas.attr('style', \"left: 0; top: 0; z-index: 0; outline: 0\")\n",
       "\n",
       "    this.canvas = canvas[0];\n",
       "    this.context = canvas[0].getContext(\"2d\");\n",
       "\n",
       "    var backingStore = this.context.backingStorePixelRatio ||\n",
       "\tthis.context.webkitBackingStorePixelRatio ||\n",
       "\tthis.context.mozBackingStorePixelRatio ||\n",
       "\tthis.context.msBackingStorePixelRatio ||\n",
       "\tthis.context.oBackingStorePixelRatio ||\n",
       "\tthis.context.backingStorePixelRatio || 1;\n",
       "\n",
       "    mpl.ratio = (window.devicePixelRatio || 1) / backingStore;\n",
       "\n",
       "    var rubberband = $('<canvas/>');\n",
       "    rubberband.attr('style', \"position: absolute; left: 0; top: 0; z-index: 1;\")\n",
       "\n",
       "    var pass_mouse_events = true;\n",
       "\n",
       "    canvas_div.resizable({\n",
       "        start: function(event, ui) {\n",
       "            pass_mouse_events = false;\n",
       "        },\n",
       "        resize: function(event, ui) {\n",
       "            fig.request_resize(ui.size.width, ui.size.height);\n",
       "        },\n",
       "        stop: function(event, ui) {\n",
       "            pass_mouse_events = true;\n",
       "            fig.request_resize(ui.size.width, ui.size.height);\n",
       "        },\n",
       "    });\n",
       "\n",
       "    function mouse_event_fn(event) {\n",
       "        if (pass_mouse_events)\n",
       "            return fig.mouse_event(event, event['data']);\n",
       "    }\n",
       "\n",
       "    rubberband.mousedown('button_press', mouse_event_fn);\n",
       "    rubberband.mouseup('button_release', mouse_event_fn);\n",
       "    // Throttle sequential mouse events to 1 every 20ms.\n",
       "    rubberband.mousemove('motion_notify', mouse_event_fn);\n",
       "\n",
       "    rubberband.mouseenter('figure_enter', mouse_event_fn);\n",
       "    rubberband.mouseleave('figure_leave', mouse_event_fn);\n",
       "\n",
       "    canvas_div.on(\"wheel\", function (event) {\n",
       "        event = event.originalEvent;\n",
       "        event['data'] = 'scroll'\n",
       "        if (event.deltaY < 0) {\n",
       "            event.step = 1;\n",
       "        } else {\n",
       "            event.step = -1;\n",
       "        }\n",
       "        mouse_event_fn(event);\n",
       "    });\n",
       "\n",
       "    canvas_div.append(canvas);\n",
       "    canvas_div.append(rubberband);\n",
       "\n",
       "    this.rubberband = rubberband;\n",
       "    this.rubberband_canvas = rubberband[0];\n",
       "    this.rubberband_context = rubberband[0].getContext(\"2d\");\n",
       "    this.rubberband_context.strokeStyle = \"#000000\";\n",
       "\n",
       "    this._resize_canvas = function(width, height) {\n",
       "        // Keep the size of the canvas, canvas container, and rubber band\n",
       "        // canvas in synch.\n",
       "        canvas_div.css('width', width)\n",
       "        canvas_div.css('height', height)\n",
       "\n",
       "        canvas.attr('width', width * mpl.ratio);\n",
       "        canvas.attr('height', height * mpl.ratio);\n",
       "        canvas.attr('style', 'width: ' + width + 'px; height: ' + height + 'px;');\n",
       "\n",
       "        rubberband.attr('width', width);\n",
       "        rubberband.attr('height', height);\n",
       "    }\n",
       "\n",
       "    // Set the figure to an initial 600x600px, this will subsequently be updated\n",
       "    // upon first draw.\n",
       "    this._resize_canvas(600, 600);\n",
       "\n",
       "    // Disable right mouse context menu.\n",
       "    $(this.rubberband_canvas).bind(\"contextmenu\",function(e){\n",
       "        return false;\n",
       "    });\n",
       "\n",
       "    function set_focus () {\n",
       "        canvas.focus();\n",
       "        canvas_div.focus();\n",
       "    }\n",
       "\n",
       "    window.setTimeout(set_focus, 100);\n",
       "}\n",
       "\n",
       "mpl.figure.prototype._init_toolbar = function() {\n",
       "    var fig = this;\n",
       "\n",
       "    var nav_element = $('<div/>')\n",
       "    nav_element.attr('style', 'width: 100%');\n",
       "    this.root.append(nav_element);\n",
       "\n",
       "    // Define a callback function for later on.\n",
       "    function toolbar_event(event) {\n",
       "        return fig.toolbar_button_onclick(event['data']);\n",
       "    }\n",
       "    function toolbar_mouse_event(event) {\n",
       "        return fig.toolbar_button_onmouseover(event['data']);\n",
       "    }\n",
       "\n",
       "    for(var toolbar_ind in mpl.toolbar_items) {\n",
       "        var name = mpl.toolbar_items[toolbar_ind][0];\n",
       "        var tooltip = mpl.toolbar_items[toolbar_ind][1];\n",
       "        var image = mpl.toolbar_items[toolbar_ind][2];\n",
       "        var method_name = mpl.toolbar_items[toolbar_ind][3];\n",
       "\n",
       "        if (!name) {\n",
       "            // put a spacer in here.\n",
       "            continue;\n",
       "        }\n",
       "        var button = $('<button/>');\n",
       "        button.addClass('ui-button ui-widget ui-state-default ui-corner-all ' +\n",
       "                        'ui-button-icon-only');\n",
       "        button.attr('role', 'button');\n",
       "        button.attr('aria-disabled', 'false');\n",
       "        button.click(method_name, toolbar_event);\n",
       "        button.mouseover(tooltip, toolbar_mouse_event);\n",
       "\n",
       "        var icon_img = $('<span/>');\n",
       "        icon_img.addClass('ui-button-icon-primary ui-icon');\n",
       "        icon_img.addClass(image);\n",
       "        icon_img.addClass('ui-corner-all');\n",
       "\n",
       "        var tooltip_span = $('<span/>');\n",
       "        tooltip_span.addClass('ui-button-text');\n",
       "        tooltip_span.html(tooltip);\n",
       "\n",
       "        button.append(icon_img);\n",
       "        button.append(tooltip_span);\n",
       "\n",
       "        nav_element.append(button);\n",
       "    }\n",
       "\n",
       "    var fmt_picker_span = $('<span/>');\n",
       "\n",
       "    var fmt_picker = $('<select/>');\n",
       "    fmt_picker.addClass('mpl-toolbar-option ui-widget ui-widget-content');\n",
       "    fmt_picker_span.append(fmt_picker);\n",
       "    nav_element.append(fmt_picker_span);\n",
       "    this.format_dropdown = fmt_picker[0];\n",
       "\n",
       "    for (var ind in mpl.extensions) {\n",
       "        var fmt = mpl.extensions[ind];\n",
       "        var option = $(\n",
       "            '<option/>', {selected: fmt === mpl.default_extension}).html(fmt);\n",
       "        fmt_picker.append(option)\n",
       "    }\n",
       "\n",
       "    // Add hover states to the ui-buttons\n",
       "    $( \".ui-button\" ).hover(\n",
       "        function() { $(this).addClass(\"ui-state-hover\");},\n",
       "        function() { $(this).removeClass(\"ui-state-hover\");}\n",
       "    );\n",
       "\n",
       "    var status_bar = $('<span class=\"mpl-message\"/>');\n",
       "    nav_element.append(status_bar);\n",
       "    this.message = status_bar[0];\n",
       "}\n",
       "\n",
       "mpl.figure.prototype.request_resize = function(x_pixels, y_pixels) {\n",
       "    // Request matplotlib to resize the figure. Matplotlib will then trigger a resize in the client,\n",
       "    // which will in turn request a refresh of the image.\n",
       "    this.send_message('resize', {'width': x_pixels, 'height': y_pixels});\n",
       "}\n",
       "\n",
       "mpl.figure.prototype.send_message = function(type, properties) {\n",
       "    properties['type'] = type;\n",
       "    properties['figure_id'] = this.id;\n",
       "    this.ws.send(JSON.stringify(properties));\n",
       "}\n",
       "\n",
       "mpl.figure.prototype.send_draw_message = function() {\n",
       "    if (!this.waiting) {\n",
       "        this.waiting = true;\n",
       "        this.ws.send(JSON.stringify({type: \"draw\", figure_id: this.id}));\n",
       "    }\n",
       "}\n",
       "\n",
       "\n",
       "mpl.figure.prototype.handle_save = function(fig, msg) {\n",
       "    var format_dropdown = fig.format_dropdown;\n",
       "    var format = format_dropdown.options[format_dropdown.selectedIndex].value;\n",
       "    fig.ondownload(fig, format);\n",
       "}\n",
       "\n",
       "\n",
       "mpl.figure.prototype.handle_resize = function(fig, msg) {\n",
       "    var size = msg['size'];\n",
       "    if (size[0] != fig.canvas.width || size[1] != fig.canvas.height) {\n",
       "        fig._resize_canvas(size[0], size[1]);\n",
       "        fig.send_message(\"refresh\", {});\n",
       "    };\n",
       "}\n",
       "\n",
       "mpl.figure.prototype.handle_rubberband = function(fig, msg) {\n",
       "    var x0 = msg['x0'] / mpl.ratio;\n",
       "    var y0 = (fig.canvas.height - msg['y0']) / mpl.ratio;\n",
       "    var x1 = msg['x1'] / mpl.ratio;\n",
       "    var y1 = (fig.canvas.height - msg['y1']) / mpl.ratio;\n",
       "    x0 = Math.floor(x0) + 0.5;\n",
       "    y0 = Math.floor(y0) + 0.5;\n",
       "    x1 = Math.floor(x1) + 0.5;\n",
       "    y1 = Math.floor(y1) + 0.5;\n",
       "    var min_x = Math.min(x0, x1);\n",
       "    var min_y = Math.min(y0, y1);\n",
       "    var width = Math.abs(x1 - x0);\n",
       "    var height = Math.abs(y1 - y0);\n",
       "\n",
       "    fig.rubberband_context.clearRect(\n",
       "        0, 0, fig.canvas.width, fig.canvas.height);\n",
       "\n",
       "    fig.rubberband_context.strokeRect(min_x, min_y, width, height);\n",
       "}\n",
       "\n",
       "mpl.figure.prototype.handle_figure_label = function(fig, msg) {\n",
       "    // Updates the figure title.\n",
       "    fig.header.textContent = msg['label'];\n",
       "}\n",
       "\n",
       "mpl.figure.prototype.handle_cursor = function(fig, msg) {\n",
       "    var cursor = msg['cursor'];\n",
       "    switch(cursor)\n",
       "    {\n",
       "    case 0:\n",
       "        cursor = 'pointer';\n",
       "        break;\n",
       "    case 1:\n",
       "        cursor = 'default';\n",
       "        break;\n",
       "    case 2:\n",
       "        cursor = 'crosshair';\n",
       "        break;\n",
       "    case 3:\n",
       "        cursor = 'move';\n",
       "        break;\n",
       "    }\n",
       "    fig.rubberband_canvas.style.cursor = cursor;\n",
       "}\n",
       "\n",
       "mpl.figure.prototype.handle_message = function(fig, msg) {\n",
       "    fig.message.textContent = msg['message'];\n",
       "}\n",
       "\n",
       "mpl.figure.prototype.handle_draw = function(fig, msg) {\n",
       "    // Request the server to send over a new figure.\n",
       "    fig.send_draw_message();\n",
       "}\n",
       "\n",
       "mpl.figure.prototype.handle_image_mode = function(fig, msg) {\n",
       "    fig.image_mode = msg['mode'];\n",
       "}\n",
       "\n",
       "mpl.figure.prototype.updated_canvas_event = function() {\n",
       "    // Called whenever the canvas gets updated.\n",
       "    this.send_message(\"ack\", {});\n",
       "}\n",
       "\n",
       "// A function to construct a web socket function for onmessage handling.\n",
       "// Called in the figure constructor.\n",
       "mpl.figure.prototype._make_on_message_function = function(fig) {\n",
       "    return function socket_on_message(evt) {\n",
       "        if (evt.data instanceof Blob) {\n",
       "            /* FIXME: We get \"Resource interpreted as Image but\n",
       "             * transferred with MIME type text/plain:\" errors on\n",
       "             * Chrome.  But how to set the MIME type?  It doesn't seem\n",
       "             * to be part of the websocket stream */\n",
       "            evt.data.type = \"image/png\";\n",
       "\n",
       "            /* Free the memory for the previous frames */\n",
       "            if (fig.imageObj.src) {\n",
       "                (window.URL || window.webkitURL).revokeObjectURL(\n",
       "                    fig.imageObj.src);\n",
       "            }\n",
       "\n",
       "            fig.imageObj.src = (window.URL || window.webkitURL).createObjectURL(\n",
       "                evt.data);\n",
       "            fig.updated_canvas_event();\n",
       "            fig.waiting = false;\n",
       "            return;\n",
       "        }\n",
       "        else if (typeof evt.data === 'string' && evt.data.slice(0, 21) == \"data:image/png;base64\") {\n",
       "            fig.imageObj.src = evt.data;\n",
       "            fig.updated_canvas_event();\n",
       "            fig.waiting = false;\n",
       "            return;\n",
       "        }\n",
       "\n",
       "        var msg = JSON.parse(evt.data);\n",
       "        var msg_type = msg['type'];\n",
       "\n",
       "        // Call the  \"handle_{type}\" callback, which takes\n",
       "        // the figure and JSON message as its only arguments.\n",
       "        try {\n",
       "            var callback = fig[\"handle_\" + msg_type];\n",
       "        } catch (e) {\n",
       "            console.log(\"No handler for the '\" + msg_type + \"' message type: \", msg);\n",
       "            return;\n",
       "        }\n",
       "\n",
       "        if (callback) {\n",
       "            try {\n",
       "                // console.log(\"Handling '\" + msg_type + \"' message: \", msg);\n",
       "                callback(fig, msg);\n",
       "            } catch (e) {\n",
       "                console.log(\"Exception inside the 'handler_\" + msg_type + \"' callback:\", e, e.stack, msg);\n",
       "            }\n",
       "        }\n",
       "    };\n",
       "}\n",
       "\n",
       "// from http://stackoverflow.com/questions/1114465/getting-mouse-location-in-canvas\n",
       "mpl.findpos = function(e) {\n",
       "    //this section is from http://www.quirksmode.org/js/events_properties.html\n",
       "    var targ;\n",
       "    if (!e)\n",
       "        e = window.event;\n",
       "    if (e.target)\n",
       "        targ = e.target;\n",
       "    else if (e.srcElement)\n",
       "        targ = e.srcElement;\n",
       "    if (targ.nodeType == 3) // defeat Safari bug\n",
       "        targ = targ.parentNode;\n",
       "\n",
       "    // jQuery normalizes the pageX and pageY\n",
       "    // pageX,Y are the mouse positions relative to the document\n",
       "    // offset() returns the position of the element relative to the document\n",
       "    var x = e.pageX - $(targ).offset().left;\n",
       "    var y = e.pageY - $(targ).offset().top;\n",
       "\n",
       "    return {\"x\": x, \"y\": y};\n",
       "};\n",
       "\n",
       "/*\n",
       " * return a copy of an object with only non-object keys\n",
       " * we need this to avoid circular references\n",
       " * http://stackoverflow.com/a/24161582/3208463\n",
       " */\n",
       "function simpleKeys (original) {\n",
       "  return Object.keys(original).reduce(function (obj, key) {\n",
       "    if (typeof original[key] !== 'object')\n",
       "        obj[key] = original[key]\n",
       "    return obj;\n",
       "  }, {});\n",
       "}\n",
       "\n",
       "mpl.figure.prototype.mouse_event = function(event, name) {\n",
       "    var canvas_pos = mpl.findpos(event)\n",
       "\n",
       "    if (name === 'button_press')\n",
       "    {\n",
       "        this.canvas.focus();\n",
       "        this.canvas_div.focus();\n",
       "    }\n",
       "\n",
       "    var x = canvas_pos.x * mpl.ratio;\n",
       "    var y = canvas_pos.y * mpl.ratio;\n",
       "\n",
       "    this.send_message(name, {x: x, y: y, button: event.button,\n",
       "                             step: event.step,\n",
       "                             guiEvent: simpleKeys(event)});\n",
       "\n",
       "    /* This prevents the web browser from automatically changing to\n",
       "     * the text insertion cursor when the button is pressed.  We want\n",
       "     * to control all of the cursor setting manually through the\n",
       "     * 'cursor' event from matplotlib */\n",
       "    event.preventDefault();\n",
       "    return false;\n",
       "}\n",
       "\n",
       "mpl.figure.prototype._key_event_extra = function(event, name) {\n",
       "    // Handle any extra behaviour associated with a key event\n",
       "}\n",
       "\n",
       "mpl.figure.prototype.key_event = function(event, name) {\n",
       "\n",
       "    // Prevent repeat events\n",
       "    if (name == 'key_press')\n",
       "    {\n",
       "        if (event.which === this._key)\n",
       "            return;\n",
       "        else\n",
       "            this._key = event.which;\n",
       "    }\n",
       "    if (name == 'key_release')\n",
       "        this._key = null;\n",
       "\n",
       "    var value = '';\n",
       "    if (event.ctrlKey && event.which != 17)\n",
       "        value += \"ctrl+\";\n",
       "    if (event.altKey && event.which != 18)\n",
       "        value += \"alt+\";\n",
       "    if (event.shiftKey && event.which != 16)\n",
       "        value += \"shift+\";\n",
       "\n",
       "    value += 'k';\n",
       "    value += event.which.toString();\n",
       "\n",
       "    this._key_event_extra(event, name);\n",
       "\n",
       "    this.send_message(name, {key: value,\n",
       "                             guiEvent: simpleKeys(event)});\n",
       "    return false;\n",
       "}\n",
       "\n",
       "mpl.figure.prototype.toolbar_button_onclick = function(name) {\n",
       "    if (name == 'download') {\n",
       "        this.handle_save(this, null);\n",
       "    } else {\n",
       "        this.send_message(\"toolbar_button\", {name: name});\n",
       "    }\n",
       "};\n",
       "\n",
       "mpl.figure.prototype.toolbar_button_onmouseover = function(tooltip) {\n",
       "    this.message.textContent = tooltip;\n",
       "};\n",
       "mpl.toolbar_items = [[\"Home\", \"Reset original view\", \"fa fa-home icon-home\", \"home\"], [\"Back\", \"Back to previous view\", \"fa fa-arrow-left icon-arrow-left\", \"back\"], [\"Forward\", \"Forward to next view\", \"fa fa-arrow-right icon-arrow-right\", \"forward\"], [\"\", \"\", \"\", \"\"], [\"Pan\", \"Pan axes with left mouse, zoom with right\", \"fa fa-arrows icon-move\", \"pan\"], [\"Zoom\", \"Zoom to rectangle\", \"fa fa-square-o icon-check-empty\", \"zoom\"], [\"\", \"\", \"\", \"\"], [\"Download\", \"Download plot\", \"fa fa-floppy-o icon-save\", \"download\"]];\n",
       "\n",
       "mpl.extensions = [\"eps\", \"jpeg\", \"pdf\", \"png\", \"ps\", \"raw\", \"svg\", \"tif\"];\n",
       "\n",
       "mpl.default_extension = \"png\";var comm_websocket_adapter = function(comm) {\n",
       "    // Create a \"websocket\"-like object which calls the given IPython comm\n",
       "    // object with the appropriate methods. Currently this is a non binary\n",
       "    // socket, so there is still some room for performance tuning.\n",
       "    var ws = {};\n",
       "\n",
       "    ws.close = function() {\n",
       "        comm.close()\n",
       "    };\n",
       "    ws.send = function(m) {\n",
       "        //console.log('sending', m);\n",
       "        comm.send(m);\n",
       "    };\n",
       "    // Register the callback with on_msg.\n",
       "    comm.on_msg(function(msg) {\n",
       "        //console.log('receiving', msg['content']['data'], msg);\n",
       "        // Pass the mpl event to the overridden (by mpl) onmessage function.\n",
       "        ws.onmessage(msg['content']['data'])\n",
       "    });\n",
       "    return ws;\n",
       "}\n",
       "\n",
       "mpl.mpl_figure_comm = function(comm, msg) {\n",
       "    // This is the function which gets called when the mpl process\n",
       "    // starts-up an IPython Comm through the \"matplotlib\" channel.\n",
       "\n",
       "    var id = msg.content.data.id;\n",
       "    // Get hold of the div created by the display call when the Comm\n",
       "    // socket was opened in Python.\n",
       "    var element = $(\"#\" + id);\n",
       "    var ws_proxy = comm_websocket_adapter(comm)\n",
       "\n",
       "    function ondownload(figure, format) {\n",
       "        window.open(figure.imageObj.src);\n",
       "    }\n",
       "\n",
       "    var fig = new mpl.figure(id, ws_proxy,\n",
       "                           ondownload,\n",
       "                           element.get(0));\n",
       "\n",
       "    // Call onopen now - mpl needs it, as it is assuming we've passed it a real\n",
       "    // web socket which is closed, not our websocket->open comm proxy.\n",
       "    ws_proxy.onopen();\n",
       "\n",
       "    fig.parent_element = element.get(0);\n",
       "    fig.cell_info = mpl.find_output_cell(\"<div id='\" + id + \"'></div>\");\n",
       "    if (!fig.cell_info) {\n",
       "        console.error(\"Failed to find cell for figure\", id, fig);\n",
       "        return;\n",
       "    }\n",
       "\n",
       "    var output_index = fig.cell_info[2]\n",
       "    var cell = fig.cell_info[0];\n",
       "\n",
       "};\n",
       "\n",
       "mpl.figure.prototype.handle_close = function(fig, msg) {\n",
       "    var width = fig.canvas.width/mpl.ratio\n",
       "    fig.root.unbind('remove')\n",
       "\n",
       "    // Update the output cell to use the data from the current canvas.\n",
       "    fig.push_to_output();\n",
       "    var dataURL = fig.canvas.toDataURL();\n",
       "    // Re-enable the keyboard manager in IPython - without this line, in FF,\n",
       "    // the notebook keyboard shortcuts fail.\n",
       "    IPython.keyboard_manager.enable()\n",
       "    $(fig.parent_element).html('<img src=\"' + dataURL + '\" width=\"' + width + '\">');\n",
       "    fig.close_ws(fig, msg);\n",
       "}\n",
       "\n",
       "mpl.figure.prototype.close_ws = function(fig, msg){\n",
       "    fig.send_message('closing', msg);\n",
       "    // fig.ws.close()\n",
       "}\n",
       "\n",
       "mpl.figure.prototype.push_to_output = function(remove_interactive) {\n",
       "    // Turn the data on the canvas into data in the output cell.\n",
       "    var width = this.canvas.width/mpl.ratio\n",
       "    var dataURL = this.canvas.toDataURL();\n",
       "    this.cell_info[1]['text/html'] = '<img src=\"' + dataURL + '\" width=\"' + width + '\">';\n",
       "}\n",
       "\n",
       "mpl.figure.prototype.updated_canvas_event = function() {\n",
       "    // Tell IPython that the notebook contents must change.\n",
       "    IPython.notebook.set_dirty(true);\n",
       "    this.send_message(\"ack\", {});\n",
       "    var fig = this;\n",
       "    // Wait a second, then push the new image to the DOM so\n",
       "    // that it is saved nicely (might be nice to debounce this).\n",
       "    setTimeout(function () { fig.push_to_output() }, 1000);\n",
       "}\n",
       "\n",
       "mpl.figure.prototype._init_toolbar = function() {\n",
       "    var fig = this;\n",
       "\n",
       "    var nav_element = $('<div/>')\n",
       "    nav_element.attr('style', 'width: 100%');\n",
       "    this.root.append(nav_element);\n",
       "\n",
       "    // Define a callback function for later on.\n",
       "    function toolbar_event(event) {\n",
       "        return fig.toolbar_button_onclick(event['data']);\n",
       "    }\n",
       "    function toolbar_mouse_event(event) {\n",
       "        return fig.toolbar_button_onmouseover(event['data']);\n",
       "    }\n",
       "\n",
       "    for(var toolbar_ind in mpl.toolbar_items){\n",
       "        var name = mpl.toolbar_items[toolbar_ind][0];\n",
       "        var tooltip = mpl.toolbar_items[toolbar_ind][1];\n",
       "        var image = mpl.toolbar_items[toolbar_ind][2];\n",
       "        var method_name = mpl.toolbar_items[toolbar_ind][3];\n",
       "\n",
       "        if (!name) { continue; };\n",
       "\n",
       "        var button = $('<button class=\"btn btn-default\" href=\"#\" title=\"' + name + '\"><i class=\"fa ' + image + ' fa-lg\"></i></button>');\n",
       "        button.click(method_name, toolbar_event);\n",
       "        button.mouseover(tooltip, toolbar_mouse_event);\n",
       "        nav_element.append(button);\n",
       "    }\n",
       "\n",
       "    // Add the status bar.\n",
       "    var status_bar = $('<span class=\"mpl-message\" style=\"text-align:right; float: right;\"/>');\n",
       "    nav_element.append(status_bar);\n",
       "    this.message = status_bar[0];\n",
       "\n",
       "    // Add the close button to the window.\n",
       "    var buttongrp = $('<div class=\"btn-group inline pull-right\"></div>');\n",
       "    var button = $('<button class=\"btn btn-mini btn-primary\" href=\"#\" title=\"Stop Interaction\"><i class=\"fa fa-power-off icon-remove icon-large\"></i></button>');\n",
       "    button.click(function (evt) { fig.handle_close(fig, {}); } );\n",
       "    button.mouseover('Stop Interaction', toolbar_mouse_event);\n",
       "    buttongrp.append(button);\n",
       "    var titlebar = this.root.find($('.ui-dialog-titlebar'));\n",
       "    titlebar.prepend(buttongrp);\n",
       "}\n",
       "\n",
       "mpl.figure.prototype._root_extra_style = function(el){\n",
       "    var fig = this\n",
       "    el.on(\"remove\", function(){\n",
       "\tfig.close_ws(fig, {});\n",
       "    });\n",
       "}\n",
       "\n",
       "mpl.figure.prototype._canvas_extra_style = function(el){\n",
       "    // this is important to make the div 'focusable\n",
       "    el.attr('tabindex', 0)\n",
       "    // reach out to IPython and tell the keyboard manager to turn it's self\n",
       "    // off when our div gets focus\n",
       "\n",
       "    // location in version 3\n",
       "    if (IPython.notebook.keyboard_manager) {\n",
       "        IPython.notebook.keyboard_manager.register_events(el);\n",
       "    }\n",
       "    else {\n",
       "        // location in version 2\n",
       "        IPython.keyboard_manager.register_events(el);\n",
       "    }\n",
       "\n",
       "}\n",
       "\n",
       "mpl.figure.prototype._key_event_extra = function(event, name) {\n",
       "    var manager = IPython.notebook.keyboard_manager;\n",
       "    if (!manager)\n",
       "        manager = IPython.keyboard_manager;\n",
       "\n",
       "    // Check for shift+enter\n",
       "    if (event.shiftKey && event.which == 13) {\n",
       "        this.canvas_div.blur();\n",
       "        event.shiftKey = false;\n",
       "        // Send a \"J\" for go to next cell\n",
       "        event.which = 74;\n",
       "        event.keyCode = 74;\n",
       "        manager.command_mode();\n",
       "        manager.handle_keydown(event);\n",
       "    }\n",
       "}\n",
       "\n",
       "mpl.figure.prototype.handle_save = function(fig, msg) {\n",
       "    fig.ondownload(fig, null);\n",
       "}\n",
       "\n",
       "\n",
       "mpl.find_output_cell = function(html_output) {\n",
       "    // Return the cell and output element which can be found *uniquely* in the notebook.\n",
       "    // Note - this is a bit hacky, but it is done because the \"notebook_saving.Notebook\"\n",
       "    // IPython event is triggered only after the cells have been serialised, which for\n",
       "    // our purposes (turning an active figure into a static one), is too late.\n",
       "    var cells = IPython.notebook.get_cells();\n",
       "    var ncells = cells.length;\n",
       "    for (var i=0; i<ncells; i++) {\n",
       "        var cell = cells[i];\n",
       "        if (cell.cell_type === 'code'){\n",
       "            for (var j=0; j<cell.output_area.outputs.length; j++) {\n",
       "                var data = cell.output_area.outputs[j];\n",
       "                if (data.data) {\n",
       "                    // IPython >= 3 moved mimebundle to data attribute of output\n",
       "                    data = data.data;\n",
       "                }\n",
       "                if (data['text/html'] == html_output) {\n",
       "                    return [cell, data, j];\n",
       "                }\n",
       "            }\n",
       "        }\n",
       "    }\n",
       "}\n",
       "\n",
       "// Register the function which deals with the matplotlib target/channel.\n",
       "// The kernel may be null if the page has been refreshed.\n",
       "if (IPython.notebook.kernel != null) {\n",
       "    IPython.notebook.kernel.comm_manager.register_target('matplotlib', mpl.mpl_figure_comm);\n",
       "}\n"
      ],
      "text/plain": [
       "<IPython.core.display.Javascript object>"
      ]
     },
     "metadata": {},
     "output_type": "display_data"
    },
    {
     "data": {
      "text/html": [
       "<img src=\"data:image/png;base64,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\" width=\"999.9999783255842\">"
      ],
      "text/plain": [
       "<IPython.core.display.HTML object>"
      ]
     },
     "metadata": {},
     "output_type": "display_data"
    }
   ],
   "source": [
    "truck = Truck(display=True)"
   ]
  },
  {
   "cell_type": "code",
   "execution_count": 5,
   "metadata": {},
   "outputs": [],
   "source": [
    "ϕ = deg2rad(-35)  # positive left, negative right\n",
    "truck.step(ϕ)\n",
    "truck.draw()"
   ]
  },
  {
   "cell_type": "code",
   "execution_count": 6,
   "metadata": {},
   "outputs": [],
   "source": [
    "truck.reset()"
   ]
  },
  {
   "cell_type": "code",
   "execution_count": 7,
   "metadata": {},
   "outputs": [],
   "source": [
    "import torch\n",
    "import torch.nn as nn\n",
    "from torch.optim import SGD\n",
    "from tqdm import tqdm"
   ]
  },
  {
   "cell_type": "code",
   "execution_count": 8,
   "metadata": {},
   "outputs": [
    {
     "name": "stderr",
     "output_type": "stream",
     "text": [
      "100%|██████████| 100/100 [06:17<00:00,  2.52s/it]\n"
     ]
    }
   ],
   "source": [
    "# Build expert data set\n",
    "\n",
    "episodes = 100\n",
    "inputs = list()\n",
    "outputs = list()\n",
    "# truck = Truck(); episodes = 10_000  # uncooment for creating the data set\n",
    "\n",
    "for episode in tqdm(range(episodes)):\n",
    "    \n",
    "    truck.reset()\n",
    "    \n",
    "    while truck.valid():\n",
    "        initial_state = truck.state()\n",
    "        ϕ = (random() - 0.5) * π / 2\n",
    "        inputs.append((ϕ, *initial_state))\n",
    "        outputs.append(truck.step(ϕ))\n",
    "        truck.draw()"
   ]
  },
  {
   "cell_type": "code",
   "execution_count": 9,
   "metadata": {},
   "outputs": [
    {
     "data": {
      "text/plain": [
       "(6333, 6333)"
      ]
     },
     "execution_count": 9,
     "metadata": {},
     "output_type": "execute_result"
    }
   ],
   "source": [
    "len(inputs), len(outputs)"
   ]
  },
  {
   "cell_type": "code",
   "execution_count": 10,
   "metadata": {},
   "outputs": [],
   "source": [
    "state_size = 6\n",
    "steering_size = 1\n",
    "hidden_units_e = 45\n",
    "\n",
    "emulator = nn.Sequential(\n",
    "    nn.Linear(steering_size + state_size, hidden_units_e),\n",
    "    nn.ReLU(),\n",
    "    nn.Linear(hidden_units_e, state_size)\n",
    ")\n",
    "\n",
    "optimiser_e = SGD(emulator.parameters(), lr=0.005)\n",
    "criterion = nn.MSELoss()"
   ]
  },
  {
   "cell_type": "code",
   "execution_count": 11,
   "metadata": {},
   "outputs": [],
   "source": [
    "tensor_inputs = torch.Tensor(inputs)\n",
    "tensor_outputs = torch.Tensor(outputs)"
   ]
  },
  {
   "cell_type": "code",
   "execution_count": 12,
   "metadata": {},
   "outputs": [],
   "source": [
    "mean = tensor_inputs.mean(0)\n",
    "std = tensor_inputs.std(0)\n",
    "tensor_inputs = (tensor_inputs - mean) / std\n",
    "tensor_outputs = (tensor_outputs - mean[1:]) / std[1:]"
   ]
  },
  {
   "cell_type": "code",
   "execution_count": 13,
   "metadata": {},
   "outputs": [
    {
     "name": "stdout",
     "output_type": "stream",
     "text": [
      "6333 5066\n"
     ]
    }
   ],
   "source": [
    "# Split the data into 80:20 for test:train.\n",
    "test_size = int(len(tensor_inputs) * 0.8)\n",
    "print(len(tensor_inputs), test_size)\n",
    "\n",
    "train_inputs = tensor_inputs[:test_size]\n",
    "train_outputs = tensor_outputs[:test_size]\n",
    "test_inputs = tensor_inputs[test_size:]\n",
    "test_outputs = tensor_outputs[test_size:]"
   ]
  },
  {
   "cell_type": "code",
   "execution_count": 14,
   "metadata": {},
   "outputs": [
    {
     "data": {
      "text/plain": [
       "5066"
      ]
     },
     "execution_count": 14,
     "metadata": {},
     "output_type": "execute_result"
    }
   ],
   "source": [
    "len(train_inputs)"
   ]
  },
  {
   "cell_type": "code",
   "execution_count": 15,
   "metadata": {},
   "outputs": [
    {
     "name": "stdout",
     "output_type": "stream",
     "text": [
      "   1 / 5066, 0.3256002069\n",
      "1000 / 5066, 0.0194033161\n",
      "2000 / 5066, 0.0519264862\n",
      "3000 / 5066, 0.0307124238\n",
      "4000 / 5066, 0.0137890754\n",
      "5000 / 5066, 0.0232800432\n"
     ]
    }
   ],
   "source": [
    "# Train... BUG! Can you spot it?\n",
    "# What is one of the main assumptions for training a net?\n",
    "\n",
    "cnt = 0\n",
    "for i in torch.randperm(len(train_inputs)):\n",
    "    ϕ_state = train_inputs[i]\n",
    "    next_state_prediction = emulator(ϕ_state)\n",
    "    \n",
    "    next_state = train_outputs[i]\n",
    "    loss = criterion(next_state_prediction, next_state)\n",
    "    \n",
    "    optimiser_e.zero_grad()\n",
    "    loss.backward()\n",
    "    optimiser_e.step()\n",
    "    \n",
    "    if cnt == 0 or (cnt + 1) % 1000 == 0:\n",
    "        print(f'{cnt + 1:4d} / {len(train_inputs)}, {loss.item():.10f}')\n",
    "    cnt += 1"
   ]
  },
  {
   "cell_type": "code",
   "execution_count": 16,
   "metadata": {},
   "outputs": [
    {
     "name": "stdout",
     "output_type": "stream",
     "text": [
      "Test loss: 0.0210352354\n"
     ]
    }
   ],
   "source": [
    "# Test\n",
    "total_loss = 0\n",
    "with torch.no_grad():\n",
    "    for idx, ϕ_state in enumerate(test_inputs):\n",
    "        next_state_prediction = emulator(ϕ_state)\n",
    "\n",
    "        next_state = test_outputs[idx]\n",
    "        total_loss += criterion(next_state_prediction, next_state).item()\n",
    "\n",
    "    \n",
    "print(f'Test loss: {loss.item():.10f}')"
   ]
  },
  {
   "cell_type": "code",
   "execution_count": 17,
   "metadata": {},
   "outputs": [],
   "source": [
    "hidden_units_c = 25\n",
    "\n",
    "controller = nn.Sequential(\n",
    "    nn.Linear(state_size, hidden_units_c),\n",
    "    nn.ReLU(),\n",
    "    nn.Linear(hidden_units_c, steering_size)\n",
    ")\n",
    "\n",
    "optimiser_c = SGD(controller.parameters(), lr=0.005)"
   ]
  },
  {
   "cell_type": "code",
   "execution_count": 18,
   "metadata": {},
   "outputs": [
    {
     "name": "stderr",
     "output_type": "stream",
     "text": [
      "\r",
      "  0%|          | 0/50 [00:00<?, ?it/s]"
     ]
    },
    {
     "name": "stdout",
     "output_type": "stream",
     "text": [
      "epoch 0 done...\n",
      "   1 :, 15.4766216278 ϕ:  0.9229 θ0(pred): -1.5904 θ1(pred):  0.4096 θ0: -0.7176 θ1:  0.1856\n"
     ]
    },
    {
     "name": "stderr",
     "output_type": "stream",
     "text": [
      "  4%|▍         | 2/50 [00:01<00:47,  1.01it/s]"
     ]
    },
    {
     "name": "stdout",
     "output_type": "stream",
     "text": [
      "epoch 1 done...\n",
      "   1 :, 63.1485252380 ϕ:  2.4148 θ0(pred): -2.5969 θ1(pred):  3.4275 θ0: -1.1722 θ1:  1.5487\n"
     ]
    },
    {
     "name": "stderr",
     "output_type": "stream",
     "text": [
      "\r",
      "  6%|▌         | 3/50 [00:01<00:35,  1.33it/s]"
     ]
    },
    {
     "name": "stdout",
     "output_type": "stream",
     "text": [
      "epoch 2 done...\n",
      "   1 :, 60.7975959778 ϕ:  2.0352 θ0(pred):  1.1141 θ1(pred):  5.4827 θ0:  0.5038 θ1:  2.4769\n",
      "epoch 3 done...\n"
     ]
    },
    {
     "name": "stderr",
     "output_type": "stream",
     "text": [
      "\r",
      "  8%|▊         | 4/50 [00:02<00:29,  1.56it/s]"
     ]
    },
    {
     "name": "stdout",
     "output_type": "stream",
     "text": [
      "   1 :, 24.2831878662 ϕ:  1.0904 θ0(pred):  2.6138 θ1(pred):  4.3265 θ0:  1.1811 θ1:  1.9547\n"
     ]
    },
    {
     "name": "stderr",
     "output_type": "stream",
     "text": [
      "\r",
      " 10%|█         | 5/50 [00:02<00:22,  1.97it/s]"
     ]
    },
    {
     "name": "stdout",
     "output_type": "stream",
     "text": [
      "epoch 4 done...\n",
      "   1 :, 86.5678787231 ϕ:  1.6397 θ0(pred):  2.6187 θ1(pred):  6.9439 θ0:  1.1833 θ1:  3.1368\n",
      "epoch 5 done...\n"
     ]
    },
    {
     "name": "stderr",
     "output_type": "stream",
     "text": [
      "\r",
      " 12%|█▏        | 6/50 [00:02<00:18,  2.39it/s]"
     ]
    },
    {
     "name": "stdout",
     "output_type": "stream",
     "text": [
      "   1 :, 42.9227523804 ϕ:  1.6068 θ0(pred):  0.2042 θ1(pred):  4.3804 θ0:  0.0929 θ1:  1.9790\n",
      "epoch 6 done...\n",
      "   1 :, 36.3021507263 ϕ:  1.2043 θ0(pred):  3.1603 θ1(pred):  5.5907 θ0:  1.4280 θ1:  2.5256\n"
     ]
    },
    {
     "name": "stderr",
     "output_type": "stream",
     "text": [
      " 16%|█▌        | 8/50 [00:03<00:17,  2.41it/s]"
     ]
    },
    {
     "name": "stdout",
     "output_type": "stream",
     "text": [
      "epoch 7 done...\n",
      "   1 :, 55.9263381958 ϕ:  1.6724 θ0(pred):  1.9497 θ1(pred):  5.6161 θ0:  0.8812 θ1:  2.5371\n",
      "epoch 8 done...\n"
     ]
    },
    {
     "name": "stderr",
     "output_type": "stream",
     "text": [
      "\r",
      " 18%|█▊        | 9/50 [00:03<00:14,  2.86it/s]"
     ]
    },
    {
     "name": "stdout",
     "output_type": "stream",
     "text": [
      "   1 :, 46.4883956909 ϕ:  2.2188 θ0(pred): -4.2035 θ1(pred):  1.2948 θ0: -1.8978 θ1:  0.5854\n",
      "epoch 9 done...\n"
     ]
    },
    {
     "name": "stderr",
     "output_type": "stream",
     "text": [
      "\r",
      " 20%|██        | 10/50 [00:03<00:12,  3.27it/s]"
     ]
    },
    {
     "name": "stdout",
     "output_type": "stream",
     "text": [
      "   1 :, 18.9894447327 ϕ:  1.3906 θ0(pred): -3.4319 θ1(pred):  0.1582 θ0: -1.5494 θ1:  0.0721\n",
      "epoch 10 done...\n"
     ]
    },
    {
     "name": "stderr",
     "output_type": "stream",
     "text": [
      "\r",
      " 22%|██▏       | 11/50 [00:04<00:11,  3.43it/s]"
     ]
    },
    {
     "name": "stdout",
     "output_type": "stream",
     "text": [
      "   1 :, 71.3903808594 ϕ:  2.4809 θ0(pred): -0.8739 θ1(pred):  4.9067 θ0: -0.3940 θ1:  2.2167\n",
      "epoch 11 done...\n",
      "   1 :, 45.9537925720 ϕ:  0.9050 θ0(pred):  3.4876 θ1(pred):  5.7239 θ0:  1.5758 θ1:  2.5858\n"
     ]
    },
    {
     "name": "stderr",
     "output_type": "stream",
     "text": [
      " 26%|██▌       | 13/50 [00:05<00:15,  2.46it/s]"
     ]
    },
    {
     "name": "stdout",
     "output_type": "stream",
     "text": [
      "epoch 12 done...\n",
      "   1 :, 82.4467468262 ϕ:  2.7158 θ0(pred): -0.8293 θ1(pred):  4.7019 θ0: -0.3739 θ1:  2.1242\n",
      "epoch 13 done...\n"
     ]
    },
    {
     "name": "stderr",
     "output_type": "stream",
     "text": [
      " 30%|███       | 15/50 [00:05<00:10,  3.41it/s]"
     ]
    },
    {
     "name": "stdout",
     "output_type": "stream",
     "text": [
      "   1 :, 79.9009399414 ϕ:  1.4102 θ0(pred):  2.0476 θ1(pred):  5.6657 θ0:  0.9254 θ1:  2.5595\n",
      "epoch 14 done...\n",
      "   1 :, 26.9012908936 ϕ:  1.6802 θ0(pred): -3.8049 θ1(pred):  0.5031 θ0: -1.7178 θ1:  0.2279\n"
     ]
    },
    {
     "name": "stderr",
     "output_type": "stream",
     "text": [
      "\r",
      " 32%|███▏      | 16/50 [00:05<00:08,  3.80it/s]"
     ]
    },
    {
     "name": "stdout",
     "output_type": "stream",
     "text": [
      "epoch 15 done...\n",
      "   1 :, 48.3986549377 ϕ:  1.9742 θ0(pred):  0.8131 θ1(pred):  4.4466 θ0:  0.3679 θ1:  2.0089\n",
      "epoch 16 done...\n"
     ]
    },
    {
     "name": "stderr",
     "output_type": "stream",
     "text": [
      "\r",
      " 34%|███▍      | 17/50 [00:05<00:07,  4.20it/s]"
     ]
    },
    {
     "name": "stdout",
     "output_type": "stream",
     "text": [
      "   1 :, 53.8346939087 ϕ:  2.1090 θ0(pred):  0.1446 θ1(pred):  4.5404 θ0:  0.0659 θ1:  2.0513\n",
      "epoch 17 done...\n",
      "   1 :, 39.5153884888 ϕ:  1.6603 θ0(pred):  1.9304 θ1(pred):  5.0676 θ0:  0.8725 θ1:  2.2894\n"
     ]
    },
    {
     "name": "stderr",
     "output_type": "stream",
     "text": [
      " 38%|███▊      | 19/50 [00:06<00:10,  3.00it/s]"
     ]
    },
    {
     "name": "stdout",
     "output_type": "stream",
     "text": [
      "epoch 18 done...\n",
      "   1 :, 16.0024986267 ϕ:  0.8506 θ0(pred): -0.3977 θ1(pred):  0.9685 θ0: -0.1790 θ1:  0.4381\n",
      "epoch 19 done...\n",
      "   1 :, 29.7659873962 ϕ:  1.3269 θ0(pred): -0.9336 θ1(pred):  1.5959 θ0: -0.4210 θ1:  0.7214\n"
     ]
    },
    {
     "name": "stderr",
     "output_type": "stream",
     "text": [
      "\r",
      " 40%|████      | 20/50 [00:08<00:20,  1.45it/s]"
     ]
    },
    {
     "name": "stdout",
     "output_type": "stream",
     "text": [
      "epoch 20 done...\n",
      "   1 :, 22.8110580444 ϕ:  1.0168 θ0(pred):  3.2751 θ1(pred):  4.7667 θ0:  1.4798 θ1:  2.1535\n"
     ]
    },
    {
     "name": "stderr",
     "output_type": "stream",
     "text": [
      " 44%|████▍     | 22/50 [00:09<00:13,  2.00it/s]"
     ]
    },
    {
     "name": "stdout",
     "output_type": "stream",
     "text": [
      "epoch 21 done...\n",
      "   1 :, 38.6878509521 ϕ:  1.5650 θ0(pred):  1.8481 θ1(pred):  5.2347 θ0:  0.8353 θ1:  2.3649\n"
     ]
    },
    {
     "name": "stderr",
     "output_type": "stream",
     "text": [
      "\r",
      " 46%|████▌     | 23/50 [00:09<00:11,  2.29it/s]"
     ]
    },
    {
     "name": "stdout",
     "output_type": "stream",
     "text": [
      "epoch 22 done...\n",
      "   1 :, 39.2203483582 ϕ:  1.6316 θ0(pred):  0.0661 θ1(pred):  4.1895 θ0:  0.0305 θ1:  1.8928\n",
      "epoch 23 done...\n",
      "   1 :, 30.1510200500 ϕ:  0.9211 θ0(pred):  3.0922 θ1(pred):  5.1444 θ0:  1.3972 θ1:  2.3241\n"
     ]
    },
    {
     "name": "stderr",
     "output_type": "stream",
     "text": [
      "\r",
      " 48%|████▊     | 24/50 [00:09<00:12,  2.07it/s]"
     ]
    },
    {
     "name": "stdout",
     "output_type": "stream",
     "text": [
      "epoch 24 done...\n",
      "   1 :, 34.4409217834 ϕ:  1.5019 θ0(pred): -2.3426 θ1(pred):  0.6042 θ0: -1.0574 θ1:  0.2735\n"
     ]
    },
    {
     "name": "stderr",
     "output_type": "stream",
     "text": [
      "\r",
      " 50%|█████     | 25/50 [00:12<00:24,  1.02it/s]"
     ]
    },
    {
     "name": "stdout",
     "output_type": "stream",
     "text": [
      "epoch 25 done...\n",
      "   1 :, 65.7326583862 ϕ:  1.0751 θ0(pred):  3.6773 θ1(pred):  6.1082 θ0:  1.6615 θ1:  2.7593\n"
     ]
    },
    {
     "name": "stderr",
     "output_type": "stream",
     "text": [
      "\r",
      " 52%|█████▏    | 26/50 [00:13<00:24,  1.03s/it]"
     ]
    },
    {
     "name": "stdout",
     "output_type": "stream",
     "text": [
      "epoch 26 done...\n",
      "   1 :, 55.4751319885 ϕ:  1.7714 θ0(pred):  2.3541 θ1(pred):  4.9736 θ0:  1.0639 θ1:  2.2469\n"
     ]
    },
    {
     "name": "stderr",
     "output_type": "stream",
     "text": [
      "\r",
      " 54%|█████▍    | 27/50 [00:13<00:20,  1.13it/s]"
     ]
    },
    {
     "name": "stdout",
     "output_type": "stream",
     "text": [
      "epoch 27 done...\n",
      "   1 :, 32.5917625427 ϕ:  1.0551 θ0(pred):  2.5694 θ1(pred):  4.9316 θ0:  1.1611 θ1:  2.2280\n"
     ]
    },
    {
     "name": "stderr",
     "output_type": "stream",
     "text": [
      "\r",
      " 56%|█████▌    | 28/50 [00:14<00:17,  1.25it/s]"
     ]
    },
    {
     "name": "stdout",
     "output_type": "stream",
     "text": [
      "epoch 28 done...\n",
      "   1 :, 30.3360328674 ϕ:  1.2824 θ0(pred):  1.6299 θ1(pred):  4.4551 θ0:  0.7368 θ1:  2.0128\n"
     ]
    },
    {
     "name": "stderr",
     "output_type": "stream",
     "text": [
      "\r",
      " 58%|█████▊    | 29/50 [00:15<00:15,  1.35it/s]"
     ]
    },
    {
     "name": "stdout",
     "output_type": "stream",
     "text": [
      "epoch 29 done...\n",
      "   1 :, 53.6477508545 ϕ:  1.0295 θ0(pred):  3.3862 θ1(pred):  5.6053 θ0:  1.5300 θ1:  2.5322\n"
     ]
    },
    {
     "name": "stderr",
     "output_type": "stream",
     "text": [
      " 62%|██████▏   | 31/50 [00:16<00:12,  1.56it/s]"
     ]
    },
    {
     "name": "stdout",
     "output_type": "stream",
     "text": [
      "epoch 30 done...\n",
      "   1 :, 38.6410980225 ϕ:  1.5575 θ0(pred):  0.2931 θ1(pred):  4.2400 θ0:  0.1330 θ1:  1.9156\n",
      "epoch 31 done...\n",
      "   1 :, 37.5028648376 ϕ:  0.9374 θ0(pred):  1.4570 θ1(pred):  4.0698 θ0:  0.6587 θ1:  1.8387\n"
     ]
    },
    {
     "name": "stderr",
     "output_type": "stream",
     "text": [
      "\r",
      " 64%|██████▍   | 32/50 [00:16<00:11,  1.56it/s]"
     ]
    },
    {
     "name": "stdout",
     "output_type": "stream",
     "text": [
      "epoch 32 done...\n",
      "   1 :, 33.8507804871 ϕ:  0.6916 θ0(pred):  2.1919 θ1(pred):  3.8133 θ0:  0.9906 θ1:  1.7229\n"
     ]
    },
    {
     "name": "stderr",
     "output_type": "stream",
     "text": [
      "\r",
      " 66%|██████▌   | 33/50 [00:17<00:11,  1.47it/s]"
     ]
    },
    {
     "name": "stdout",
     "output_type": "stream",
     "text": [
      "epoch 33 done...\n",
      "   1 :, 30.4507141113 ϕ:  1.2006 θ0(pred):  3.4776 θ1(pred):  5.5674 θ0:  1.5713 θ1:  2.5151\n"
     ]
    },
    {
     "name": "stderr",
     "output_type": "stream",
     "text": [
      "\r",
      " 68%|██████▊   | 34/50 [00:18<00:09,  1.62it/s]"
     ]
    },
    {
     "name": "stdout",
     "output_type": "stream",
     "text": [
      "epoch 34 done...\n",
      "   1 :, 36.4608497620 ϕ:  0.9696 θ0(pred):  2.0022 θ1(pred):  4.4440 θ0:  0.9049 θ1:  2.0078\n"
     ]
    },
    {
     "name": "stderr",
     "output_type": "stream",
     "text": [
      " 72%|███████▏  | 36/50 [00:18<00:06,  2.05it/s]"
     ]
    },
    {
     "name": "stdout",
     "output_type": "stream",
     "text": [
      "epoch 35 done...\n",
      "   1 :, 50.4073257446 ϕ:  1.8397 θ0(pred): -1.2572 θ1(pred):  2.3616 θ0: -0.5672 θ1:  1.0673\n",
      "epoch 36 done...\n"
     ]
    },
    {
     "name": "stderr",
     "output_type": "stream",
     "text": [
      " 76%|███████▌  | 38/50 [00:19<00:03,  3.03it/s]"
     ]
    },
    {
     "name": "stdout",
     "output_type": "stream",
     "text": [
      "   1 :, 62.0270423889 ϕ:  2.2920 θ0(pred):  0.7750 θ1(pred):  4.8728 θ0:  0.3507 θ1:  2.2014\n",
      "epoch 37 done...\n",
      "   1 :, 37.9399795532 ϕ:  1.7274 θ0(pred): -0.5839 θ1(pred):  3.5016 θ0: -0.2631 θ1:  1.5821\n"
     ]
    },
    {
     "name": "stderr",
     "output_type": "stream",
     "text": [
      "\r",
      " 78%|███████▊  | 39/50 [00:19<00:03,  3.33it/s]"
     ]
    },
    {
     "name": "stdout",
     "output_type": "stream",
     "text": [
      "epoch 38 done...\n",
      "   1 :, 83.8187866211 ϕ:  2.1140 θ0(pred):  0.8243 θ1(pred):  5.8503 θ0:  0.3729 θ1:  2.6429\n",
      "epoch 39 done...\n",
      "   1 :, 25.7137546539 ϕ:  0.8656 θ0(pred): -1.5244 θ1(pred): -0.4528 θ0: -0.6878 θ1: -0.2039\n"
     ]
    },
    {
     "name": "stderr",
     "output_type": "stream",
     "text": [
      " 82%|████████▏ | 41/50 [00:21<00:04,  1.86it/s]"
     ]
    },
    {
     "name": "stdout",
     "output_type": "stream",
     "text": [
      "epoch 40 done...\n",
      "   1 :, 27.2438087463 ϕ:  1.5385 θ0(pred): -1.8228 θ1(pred):  2.2192 θ0: -0.8226 θ1:  1.0029\n",
      "epoch 41 done...\n",
      "   1 :, 26.1436977386 ϕ:  1.2494 θ0(pred):  0.3441 θ1(pred):  3.4966 θ0:  0.1561 θ1:  1.5798\n"
     ]
    },
    {
     "name": "stderr",
     "output_type": "stream",
     "text": [
      " 86%|████████▌ | 43/50 [00:22<00:03,  2.01it/s]"
     ]
    },
    {
     "name": "stdout",
     "output_type": "stream",
     "text": [
      "epoch 42 done...\n",
      "   1 :, 66.1965408325 ϕ:  2.2972 θ0(pred):  0.3303 θ1(pred):  5.1496 θ0:  0.1498 θ1:  2.3264\n",
      "epoch 43 done...\n",
      "   1 :, 28.0918350220 ϕ:  0.9056 θ0(pred):  3.2434 θ1(pred):  4.9968 θ0:  1.4655 θ1:  2.2574\n"
     ]
    },
    {
     "name": "stderr",
     "output_type": "stream",
     "text": [
      "\r",
      " 88%|████████▊ | 44/50 [00:23<00:03,  1.72it/s]"
     ]
    },
    {
     "name": "stdout",
     "output_type": "stream",
     "text": [
      "epoch 44 done...\n",
      "   1 :, 41.3665313721 ϕ:  1.3234 θ0(pred):  1.0912 θ1(pred):  2.9845 θ0:  0.4935 θ1:  1.3486\n"
     ]
    },
    {
     "name": "stderr",
     "output_type": "stream",
     "text": [
      " 92%|█████████▏| 46/50 [00:23<00:01,  2.20it/s]"
     ]
    },
    {
     "name": "stdout",
     "output_type": "stream",
     "text": [
      "epoch 45 done...\n",
      "   1 :, 49.2366867065 ϕ:  2.1199 θ0(pred): -3.8519 θ1(pred):  1.5451 θ0: -1.7390 θ1:  0.6985\n",
      "epoch 46 done...\n",
      "   1 :, 36.5692710876 ϕ:  0.7132 θ0(pred):  3.7500 θ1(pred):  5.2133 θ0:  1.6943 θ1:  2.3552\n"
     ]
    },
    {
     "name": "stderr",
     "output_type": "stream",
     "text": [
      "\r",
      " 94%|█████████▍| 47/50 [00:25<00:02,  1.48it/s]"
     ]
    },
    {
     "name": "stdout",
     "output_type": "stream",
     "text": [
      "epoch 47 done...\n",
      "   1 :, 38.8144760132 ϕ:  0.8229 θ0(pred):  3.0551 θ1(pred):  4.8364 θ0:  1.3805 θ1:  2.1850\n"
     ]
    },
    {
     "name": "stderr",
     "output_type": "stream",
     "text": [
      "\r",
      " 96%|█████████▌| 48/50 [00:25<00:01,  1.34it/s]"
     ]
    },
    {
     "name": "stdout",
     "output_type": "stream",
     "text": [
      "epoch 48 done...\n",
      "   1 :, 68.3218917847 ϕ:  1.1117 θ0(pred):  3.3334 θ1(pred):  6.0466 θ0:  1.5061 θ1:  2.7316\n"
     ]
    },
    {
     "name": "stderr",
     "output_type": "stream",
     "text": [
      "\r",
      " 98%|█████████▊| 49/50 [00:27<00:00,  1.18it/s]"
     ]
    },
    {
     "name": "stdout",
     "output_type": "stream",
     "text": [
      "epoch 49 done...\n",
      "   1 :, 54.1695098877 ϕ:  1.1534 θ0(pred):  2.4693 θ1(pred):  5.2487 θ0:  1.1159 θ1:  2.3712\n"
     ]
    },
    {
     "name": "stderr",
     "output_type": "stream",
     "text": [
      "100%|██████████| 50/50 [00:27<00:00,  1.20it/s]\n"
     ]
    }
   ],
   "source": [
    "controller.train()\n",
    "emulator.train()\n",
    "\n",
    "for epoch in tqdm(range(50)):\n",
    "    truck.reset() # selecting a random truck position, we want to park it to the dock\n",
    "    truck.draw()\n",
    "    target_state = torch.tensor([truck.d, 0, 0, 0, 0, 0], dtype=torch.float)\n",
    "    target_state = (target_state - mean[1:]) / std[1:]\n",
    "    curr_state = truck.state()\n",
    "    cnt = 0\n",
    "    prev_loss = None\n",
    "    print(\"epoch {} done...\".format(epoch))\n",
    "    while truck.valid():\n",
    "        curr_state = torch.tensor([*curr_state])\n",
    "        ϕ_pred = controller(curr_state)\n",
    "        pred_state = emulator(torch.tensor([ϕ_pred, *curr_state]))\n",
    "        loss = criterion(pred_state[4:], target_state[4:]) + criterion(pred_state[5], pred_state[2]) + criterion(pred_state, curr_state)\n",
    "        \n",
    "        optimiser_c.zero_grad()\n",
    "        loss.backward()\n",
    "        optimiser_c.step()\n",
    "        \n",
    "        curr_state = pred_state\n",
    "        \n",
    "        ϕ = (ϕ_pred[0]*std[0]) + mean[0]\n",
    "        state = (pred_state*std[0]) + mean[0]\n",
    "        ϕ = ϕ.detach().numpy()\n",
    "        state = state.detach().numpy()\n",
    "        truck.set_state(state[0], state[1], state[2], state[5], ϕ)\n",
    "        \n",
    "        truck.draw()\n",
    "        \n",
    "        curr_state = pred_state\n",
    "        \n",
    "        if prev_loss is not None and abs(loss.item()-prev_loss) < 0.001:\n",
    "            break\n",
    "        prev_loss = loss.item()\n",
    "        \n",
    "        if cnt == 0 or (cnt + 1) % 100 == 0:\n",
    "            print(f'{cnt + 1:4d} :, {loss.item():.10f} ϕ: {ϕ: 0.4f} θ0(pred): {pred_state[2]: 0.4f} θ1(pred): {pred_state[5]: 0.4f} θ0: {truck.θ0: 0.4f} θ1: {truck.θ1: 0.4f}')\n",
    "        cnt += 1"
   ]
  },
  {
   "cell_type": "code",
   "execution_count": 19,
   "metadata": {},
   "outputs": [],
   "source": [
    "# Test the controller\n",
    "# It should smoothly park the truck\n",
    "controller.eval()\n",
    "emulator.eval()\n",
    "\n",
    "for simulation in range(20):\n",
    "    truck.reset()\n",
    "    truck.draw()\n",
    "    while truck.valid():\n",
    "        curr_state = truck.state()\n",
    "        ϕ_pred = controller(torch.tensor([*curr_state]))\n",
    "        ϕ = (ϕ_pred[0]*std[0]) + mean[0]\n",
    "        truck.step(ϕ.detach().numpy())\n",
    "        truck.draw()"
   ]
  },
  {
   "cell_type": "code",
   "execution_count": null,
   "metadata": {},
   "outputs": [],
   "source": []
  }
 ],
 "metadata": {
  "kernelspec": {
   "display_name": "Python 3",
   "language": "python",
   "name": "python3"
  },
  "language_info": {
   "codemirror_mode": {
    "name": "ipython",
    "version": 3
   },
   "file_extension": ".py",
   "mimetype": "text/x-python",
   "name": "python",
   "nbconvert_exporter": "python",
   "pygments_lexer": "ipython3",
   "version": "3.7.3"
  }
 },
 "nbformat": 4,
 "nbformat_minor": 2
}
