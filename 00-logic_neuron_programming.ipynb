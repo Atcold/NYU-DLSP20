{
 "cells": [
  {
   "cell_type": "markdown",
   "metadata": {},
   "source": [
    "# Code your own neuron and neural net\n",
    "The parts of code that look like\n",
    "```python\n",
    "pass  # ⬅️✏️\n",
    "```\n",
    "need to be filled in before moving to the next cell.\n",
    "\n",
    "Check out the slides and / or corresponding video lecture for more instructions."
   ]
  },
  {
   "cell_type": "code",
   "execution_count": 1,
   "metadata": {
    "lines_to_next_cell": 1
   },
   "outputs": [],
   "source": [
    "# Define two vectors (lists): input my_x, weights my_w\n",
    "my_x = [0, 1, 1]\n",
    "my_w = [-10, 10, 5]"
   ]
  },
  {
   "cell_type": "code",
   "execution_count": 5,
   "metadata": {},
   "outputs": [],
   "source": [
    "# Multiply two lists element wise\n",
    "def mul(a, b):\n",
    "    \"\"\"\n",
    "    return a list c, same length as a, element c[i] = a[i] * b[i]\n",
    "    \"len(list)\" and \"[0] * n\" may be useful\n",
    "    \"\"\"\n",
    "    c = []\n",
    "    for i in range(len(a)):\n",
    "        c.append(a[i]*b[i])\n",
    "    return c"
   ]
  },
  {
   "cell_type": "markdown",
   "metadata": {},
   "source": [
    "---"
   ]
  },
  {
   "cell_type": "code",
   "execution_count": 6,
   "metadata": {},
   "outputs": [
    {
     "data": {
      "text/plain": [
       "[0, 10, 5]"
      ]
     },
     "execution_count": 6,
     "metadata": {},
     "output_type": "execute_result"
    }
   ],
   "source": [
    "# Test mul() function\n",
    "mul(my_x, my_w)"
   ]
  },
  {
   "cell_type": "code",
   "execution_count": 7,
   "metadata": {
    "lines_to_next_cell": 1
   },
   "outputs": [],
   "source": [
    "# Define a scalar: bias b\n",
    "my_b = -5"
   ]
  },
  {
   "cell_type": "code",
   "execution_count": 8,
   "metadata": {},
   "outputs": [],
   "source": [
    "# Neuron linear (internal) potential\n",
    "def linear_neuron(x, weights, bias):\n",
    "    \"\"\"\n",
    "    return a scalar value representing a scalar neuron\n",
    "    \"sum(list)\" computes the sum of the elements in a list\n",
    "    \"\"\"\n",
    "    sum = 0\n",
    "    for i in range(len(x)):\n",
    "        sum+=weights[i]*x[i]\n",
    "    \n",
    "    return sum+bias\n"
   ]
  },
  {
   "cell_type": "markdown",
   "metadata": {},
   "source": [
    "---"
   ]
  },
  {
   "cell_type": "code",
   "execution_count": 9,
   "metadata": {},
   "outputs": [
    {
     "data": {
      "text/plain": [
       "10"
      ]
     },
     "execution_count": 9,
     "metadata": {},
     "output_type": "execute_result"
    }
   ],
   "source": [
    "# Test linear_neuron() function\n",
    "linear_neuron(my_x, my_w, my_b)"
   ]
  },
  {
   "cell_type": "code",
   "execution_count": 10,
   "metadata": {
    "lines_to_next_cell": 1
   },
   "outputs": [],
   "source": [
    "# Import exp() function (safe on lists)\n",
    "from numpy import exp"
   ]
  },
  {
   "cell_type": "code",
   "execution_count": 11,
   "metadata": {},
   "outputs": [],
   "source": [
    "# Logistic sigmoid\n",
    "def sigmoid(z):\n",
    "    \"\"\"\n",
    "    return the logistic sigmoid (use exp())\n",
    "    \"\"\"\n",
    "    s = exp(-z)\n",
    "    s = s+1\n",
    "    s= 1/s\n",
    "    return s\n",
    "    "
   ]
  },
  {
   "cell_type": "markdown",
   "metadata": {},
   "source": [
    "---"
   ]
  },
  {
   "cell_type": "code",
   "execution_count": 18,
   "metadata": {},
   "outputs": [
    {
     "name": "stdout",
     "output_type": "stream",
     "text": [
      "0.0066928509242848554\n",
      "0.5\n",
      "0.9933071490757153\n"
     ]
    }
   ],
   "source": [
    "# Try out σ() for different z values\n",
    "for z in (-5, 0, 5): print(sigmoid(z))"
   ]
  },
  {
   "cell_type": "code",
   "execution_count": 19,
   "metadata": {},
   "outputs": [],
   "source": [
    "# Import some plotting stuff to graph sigmoid()\n",
    "from numpy import linspace\n",
    "from matplotlib.pyplot import plot, axhline, axvline, grid, style\n",
    "style.use('dark_background')"
   ]
  },
  {
   "cell_type": "code",
   "execution_count": 33,
   "metadata": {},
   "outputs": [
    {
     "name": "stdout",
     "output_type": "stream",
     "text": [
      "[-7.5        -7.19387755 -6.8877551  -6.58163265 -6.2755102  -5.96938776\n",
      " -5.66326531 -5.35714286 -5.05102041 -4.74489796 -4.43877551 -4.13265306\n",
      " -3.82653061 -3.52040816 -3.21428571 -2.90816327 -2.60204082 -2.29591837\n",
      " -1.98979592 -1.68367347 -1.37755102 -1.07142857 -0.76530612 -0.45918367\n",
      " -0.15306122  0.15306122  0.45918367  0.76530612  1.07142857  1.37755102\n",
      "  1.68367347  1.98979592  2.29591837  2.60204082  2.90816327  3.21428571\n",
      "  3.52040816  3.82653061  4.13265306  4.43877551  4.74489796  5.05102041\n",
      "  5.35714286  5.66326531  5.96938776  6.2755102   6.58163265  6.8877551\n",
      "  7.19387755  7.5       ]\n"
     ]
    },
    {
     "data": {
      "image/png": "[encoded data removed]",
      "text/plain": [
       "<Figure size 640x480 with 1 Axes>"
      ]
     },
     "metadata": {},
     "output_type": "display_data"
    }
   ],
   "source": [
    "# Get a pair of axis and grid lines centred in (0, 0)\n",
    "axhline(c='.2'); axvline(color='.2')\n",
    "grid(c='.1', ls='--')\n",
    "\n",
    "# Plot across a span of numbers\n",
    "z = linspace(-7.5, 7.5)\n",
    "print(z)\n",
    "plot(z, sigmoid(z));"
   ]
  },
  {
   "cell_type": "code",
   "execution_count": 34,
   "metadata": {},
   "outputs": [],
   "source": [
    "# Full neuron function\n",
    "def neuron(x, weights, bias):\n",
    "    \"\"\"\n",
    "    Return a classical neuron output (reuse code above)\n",
    "    \"\"\"\n",
    "    z = linear_neuron(x,weights,bias)\n",
    "    return sigmoid(z)\n",
    "    "
   ]
  },
  {
   "cell_type": "markdown",
   "metadata": {},
   "source": [
    "---"
   ]
  },
  {
   "cell_type": "code",
   "execution_count": 35,
   "metadata": {},
   "outputs": [
    {
     "data": {
      "text/plain": [
       "0.9999546021312976"
      ]
     },
     "execution_count": 35,
     "metadata": {},
     "output_type": "execute_result"
    }
   ],
   "source": [
    "# Test neuron() function\n",
    "neuron(my_x, my_w, my_b)"
   ]
  },
  {
   "cell_type": "code",
   "execution_count": 36,
   "metadata": {
    "lines_to_next_cell": 1
   },
   "outputs": [],
   "source": [
    "# Package OR neuron weights and bias\n",
    "def or_neuron(x):\n",
    "    \"\"\"\n",
    "    Return x1 OR x2 (x1 + x2)\n",
    "    \"\"\"\n",
    "    # pass  # ⬅️✏️\n",
    "    return x[0] or x[1]"
   ]
  },
  {
   "cell_type": "markdown",
   "metadata": {},
   "source": [
    "---"
   ]
  },
  {
   "cell_type": "code",
   "execution_count": 37,
   "metadata": {},
   "outputs": [],
   "source": [
    "# Defina a collection of inputs to test OR and AND\n",
    "my_x_collection = [\n",
    "    [0, 0],\n",
    "    [0, 1],\n",
    "    [1, 0],\n",
    "    [1, 1],\n",
    "]"
   ]
  },
  {
   "cell_type": "code",
   "execution_count": 38,
   "metadata": {
    "lines_to_next_cell": 1
   },
   "outputs": [
    {
     "name": "stdout",
     "output_type": "stream",
     "text": [
      "Checking OR neuron output\n",
      "[0, 0] 0.000\n",
      "[0, 1] 1.000\n",
      "[1, 0] 1.000\n",
      "[1, 1] 1.000\n"
     ]
    }
   ],
   "source": [
    "print('Checking OR neuron output')\n",
    "for my_x in my_x_collection:\n",
    "    print(my_x, f'{or_neuron(my_x):.3f}')"
   ]
  },
  {
   "cell_type": "code",
   "execution_count": 39,
   "metadata": {
    "lines_to_next_cell": 1
   },
   "outputs": [],
   "source": [
    "# Package AND neuron weights and bias\n",
    "def and_neuron(x):\n",
    "    \"\"\"\n",
    "    Return x1 AND x2 (x1 * x2)\n",
    "    \"\"\"\n",
    "    return x[0] and x[1]"
   ]
  },
  {
   "cell_type": "markdown",
   "metadata": {},
   "source": [
    "---"
   ]
  },
  {
   "cell_type": "code",
   "execution_count": 40,
   "metadata": {
    "lines_to_next_cell": 1
   },
   "outputs": [
    {
     "name": "stdout",
     "output_type": "stream",
     "text": [
      "Checking AND neuron output\n",
      "[0, 0] 0.000\n",
      "[0, 1] 0.000\n",
      "[1, 0] 0.000\n",
      "[1, 1] 1.000\n"
     ]
    }
   ],
   "source": [
    "print('Checking AND neuron output')\n",
    "for my_x in my_x_collection:\n",
    "    print(my_x, f'{and_neuron(my_x):.3f}')"
   ]
  },
  {
   "cell_type": "code",
   "execution_count": 42,
   "metadata": {
    "lines_to_next_cell": 1
   },
   "outputs": [],
   "source": [
    "# Package NOT neuron weight and bias\n",
    "def not_neuron(x):\n",
    "    \"\"\"\n",
    "    Return NOT x1 (x1_)\n",
    "    \"\"\"\n",
    "    return not x[0]"
   ]
  },
  {
   "cell_type": "markdown",
   "metadata": {},
   "source": [
    "---"
   ]
  },
  {
   "cell_type": "code",
   "execution_count": 43,
   "metadata": {
    "lines_to_next_cell": 1
   },
   "outputs": [
    {
     "name": "stdout",
     "output_type": "stream",
     "text": [
      "Checking NOT neuron output\n",
      "[0] 1.000\n",
      "[1] 0.000\n"
     ]
    }
   ],
   "source": [
    "print('Checking NOT neuron output')\n",
    "for my_x in [[0], [1]]:\n",
    "    print(my_x, f'{not_neuron(my_x):.3f}')"
   ]
  },
  {
   "cell_type": "markdown",
   "metadata": {},
   "source": [
    "![X-OR](res/x-or_circuit.png)"
   ]
  },
  {
   "cell_type": "code",
   "execution_count": 44,
   "metadata": {},
   "outputs": [],
   "source": [
    "# Combine OR, AND, and NOT into a XOR neuron\n",
    "def xor_neuron(x):\n",
    "    \"\"\"\n",
    "    Return x1_ * x2 + x1 * x2_\n",
    "    \"\"\"\n",
    "    return x[0] ^ x[1]"
   ]
  },
  {
   "cell_type": "markdown",
   "metadata": {},
   "source": [
    "---"
   ]
  },
  {
   "cell_type": "code",
   "execution_count": 45,
   "metadata": {},
   "outputs": [
    {
     "name": "stdout",
     "output_type": "stream",
     "text": [
      "Checking XOR neuron output\n",
      "[0, 0] 0.000\n",
      "[0, 1] 1.000\n",
      "[1, 0] 1.000\n",
      "[1, 1] 0.000\n"
     ]
    }
   ],
   "source": [
    "print('Checking XOR neuron output')\n",
    "for my_x in my_x_collection:\n",
    "    print(my_x, f'{xor_neuron(my_x):.3f}')"
   ]
  },
  {
   "cell_type": "markdown",
   "metadata": {},
   "source": [
    "![Half-adder](res/half-adder_circuit.png)"
   ]
  },
  {
   "cell_type": "code",
   "execution_count": 46,
   "metadata": {},
   "outputs": [],
   "source": [
    "# Combine a XOR and an AND into a half-adder\n",
    "# ⬅️✏️"
   ]
  },
  {
   "cell_type": "markdown",
   "metadata": {},
   "source": [
    "---"
   ]
  },
  {
   "cell_type": "markdown",
   "metadata": {},
   "source": [
    "![Adder](res/adder_circuit.png)"
   ]
  },
  {
   "cell_type": "code",
   "execution_count": 47,
   "metadata": {},
   "outputs": [],
   "source": [
    "# Combine two half-adders and an OR into a (full) adder\n",
    "# ⬅️✏️"
   ]
  },
  {
   "cell_type": "markdown",
   "metadata": {},
   "source": [
    "---"
   ]
  }
 ],
 "metadata": {
  "jupytext": {
   "encoding": "# -*- coding: utf-8 -*-"
  },
  "kernelspec": {
   "display_name": "Python 3 (ipykernel)",
   "language": "python",
   "name": "python3"
  },
  "language_info": {
   "codemirror_mode": {
    "name": "ipython",
    "version": 3
   },
   "file_extension": ".py",
   "mimetype": "text/x-python",
   "name": "python",
   "nbconvert_exporter": "python",
   "pygments_lexer": "ipython3",
   "version": "3.10.13"
  }
 },
 "nbformat": 4,
 "nbformat_minor": 4
}
